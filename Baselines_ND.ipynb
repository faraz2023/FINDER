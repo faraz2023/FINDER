{
 "cells": [
  {
   "cell_type": "code",
   "execution_count": 1,
   "metadata": {},
   "outputs": [],
   "source": [
    "import networkx as nx\n",
    "import numpy as np\n",
    "import random\n",
    "import os\n",
    "import os\n",
    "from shutil import copyfile\n",
    "from tqdm import tqdm\n",
    "\n",
    "data_name = \"HI-II-14\" #HI-II-14, Digg\n",
    "experiment_type = \"ND\"\n",
    "step_ratio = 0.01\n"
   ]
  },
  {
   "cell_type": "code",
   "execution_count": 2,
   "metadata": {},
   "outputs": [],
   "source": [
    "def make_dir(path):\n",
    "    try: os.makedirs(path)\n",
    "    except: return -1"
   ]
  },
  {
   "cell_type": "code",
   "execution_count": 31,
   "metadata": {},
   "outputs": [
    {
     "name": "stdout",
     "output_type": "stream",
     "text": [
      "Number of nodes in the graph: 4165\n",
      "Number of edges in the graph: 13087\n",
      "Node removals per iteration:  41\n",
      "Total possible pairwise connectivity 8671530\n"
     ]
    }
   ],
   "source": [
    "#network_file_name = \"{}\".format(data_name)\n",
    "network_file_path = \"./data/real/{}.txt\".format(data_name)\n",
    "G = nx.read_edgelist(network_file_path, nodetype=int)\n",
    "print(\"Number of nodes in the graph:\", G.number_of_nodes())\n",
    "print(\"Number of edges in the graph:\", G.number_of_edges())\n",
    "\n",
    "_g_num_nodes = G.number_of_nodes()\n",
    "_CN_denom = (((_g_num_nodes * (_g_num_nodes - 1))) /2) #total possible pariwise connectivity\n",
    "k = int(_g_num_nodes * step_ratio)\n",
    "print(\"Node removals per iteration: \", k)\n",
    "print(\"Total possible pairwise connectivity\", int(_CN_denom))\n",
    "\n",
    "\n",
    "\n",
    "def calc_graph_connectivity(G, experiment_type=experiment_type):\n",
    "    if(G.number_of_nodes() in [0, 1]): return 0\n",
    "    if(experiment_type==\"CN\"):\n",
    "        pairwise_connectivity = 0\n",
    "        for i in list(nx.connected_components(G)): pairwise_connectivity += (len(i) * (len(i) -1)) / 2\n",
    "        pc = pairwise_connectivity / _CN_denom\n",
    "        return pc\n",
    "    else:\n",
    "        maxCC = len(max(nx.connected_components(G), key=len))\n",
    "        #print(maxCC , _g_num_nodes)\n",
    "        return maxCC / _g_num_nodes\n"
   ]
  },
  {
   "cell_type": "code",
   "execution_count": 32,
   "metadata": {},
   "outputs": [],
   "source": [
    "# high degree adaptive\n",
    "def AdaptiveBaselines(G, k=k,approach='HDA', write=False):\n",
    "    connectivity_scores_list = []\n",
    "    connectivity_scores_list.append(calc_graph_connectivity(G))\n",
    "\n",
    "    print(\"{} for k: {}\".format(approach, k))\n",
    "\n",
    "    while(True):\n",
    "        print(\"- \", end=\"\")\n",
    "        if(approach=='HDA'):\n",
    "            node_scores = dict(G.degree)\n",
    "        node_scores_sorted = list(sorted(node_scores.items(), key=lambda item: item[1], reverse=True))\n",
    "        isTerminal = k > len(node_scores_sorted)\n",
    "\n",
    "        num_removals = int(min(k, len(node_scores_sorted)))\n",
    "        node_score_pairs = node_scores_sorted[0:num_removals]\n",
    "        node_removals = [i[0] for i in node_score_pairs]\n",
    "\n",
    "        G.remove_nodes_from(node_removals)\n",
    "\n",
    "        connectivity_scores_list.append(calc_graph_connectivity(G))\n",
    "\n",
    "        if(isTerminal): break\n",
    "\n",
    "    print(\"\\t-Finished calculations\")\n",
    "\n",
    "    if(write):\n",
    "        result_file = os.path.join(HDA_export_path, \"{}_scores_k_{}.txt\".format(data_name, k))\n",
    "        with open(result_file, 'w') as f_out:\n",
    "                for j in range(len(pairwise_conn_list)):\n",
    "                    f_out.write('%.8f\\n' % pairwise_conn_list[j])\n",
    "        print(\"\\t-Finished export\")\n",
    "\n",
    "    return connectivity_scores_list"
   ]
  },
  {
   "cell_type": "code",
   "execution_count": 33,
   "metadata": {},
   "outputs": [],
   "source": [
    "def calc_score_from_nodes_file(G, node_files, export_path, k=k, write=False):\n",
    "    connectivity_scores_list = []\n",
    "    connectivity_scores_list.append(calc_graph_connectivity(G))\n",
    "\n",
    "    f = open(node_files,'r')\n",
    "    node_removals = []\n",
    "    for node in f:\n",
    "        node_removals.append(int(node))\n",
    "    #print(node_removals)    \n",
    "    while(True):\n",
    "        print(\"- \", end=\"\")\n",
    "\n",
    "        isTerminal = k > len(node_removals)\n",
    "\n",
    "        num_removals = int(min(k, len(node_removals)))\n",
    "        curr_node_removals = node_removals[0:num_removals]\n",
    "        #print(curr_node_removals)\n",
    "        #print(\"=======\")\n",
    "        G.remove_nodes_from(curr_node_removals)\n",
    "\n",
    "        connectivity_scores_list.append(calc_graph_connectivity(G))\n",
    "\n",
    "        node_removals = node_removals[num_removals:]\n",
    "        if(isTerminal): break\n",
    "\n",
    "    print(\"\\t-Finished calculations\")\n",
    "    if(write):\n",
    "        result_file = os.path.join(export_path, \"scores_k_{}.txt\".format(k))\n",
    "        with open(result_file, 'w') as f_out:\n",
    "                for j in range(len(pairwise_conn_list)):\n",
    "                    f_out.write('%.8f\\n' % pairwise_conn_list[j])\n",
    "\n",
    "        print(\"\\t-Finished export\")\n",
    "\n",
    "\n",
    "    return connectivity_scores_list, G"
   ]
  },
  {
   "cell_type": "code",
   "execution_count": 34,
   "metadata": {},
   "outputs": [
    {
     "name": "stdout",
     "output_type": "stream",
     "text": [
      "HDA for k: 41\n",
      "- - - - - - - - - - - - - - - - - - - - - - - - - - - - - - - - - - - - - - - - - - - - - - - - - - - - - - - - - - - - - - - - - - - - - - - - - - - - - - - - - - - - - - - - - - - - - - - - - - - - - - \t-Finished calculations\n"
     ]
    }
   ],
   "source": [
    "G = nx.read_edgelist(network_file_path, nodetype=int)\n",
    "HDA_scores = AdaptiveBaselines(G, k=k, approach='HDA')"
   ]
  },
  {
   "cell_type": "code",
   "execution_count": 35,
   "metadata": {},
   "outputs": [],
   "source": [
    "exp_dict = {\n",
    "            \"HDA_scores\":HDA_scores\n",
    "           }\n"
   ]
  },
  {
   "cell_type": "code",
   "execution_count": 36,
   "metadata": {},
   "outputs": [
    {
     "name": "stdout",
     "output_type": "stream",
     "text": [
      "- - - - - - - - - - - - - - - - - - - - - - - - - - - - - - - - - - - \t-Finished calculations\n",
      "====== 0.00024009603841536616\n",
      "- - - - - - - - - - - - - - - - - - - - - - - - - - - - - - - - - - - - - - - - - - - - - - - - \t-Finished calculations\n",
      "====== 0.00024009603841536616\n"
     ]
    }
   ],
   "source": [
    "result_folders = ['old_FINDER_ND_tf', 'FINDER_ND', ]\n",
    "\n",
    "for r_f in result_folders:\n",
    "    G = nx.read_edgelist(network_file_path, nodetype=int)\n",
    "\n",
    "    FINDER_torch_file_path = os.path.join(\".\", \"code\", \"results\", r_f, 'real', 'StepRatio_0.0100',\\\n",
    "                            '{}.txt'.format(data_name))\n",
    "\n",
    "    \n",
    "    curr_sccores, _G = calc_score_from_nodes_file(G, FINDER_torch_file_path, None, k=k, write=False)\n",
    "    print(\"======\", calc_graph_connectivity(_G))\n",
    "    exp_dict[r_f] = curr_sccores"
   ]
  },
  {
   "cell_type": "code",
   "execution_count": 9,
   "metadata": {},
   "outputs": [],
   "source": [
    "result_folders = ['FINDER_ND', 'old_FINDER_ND_tf']\n",
    "\n",
    "for r_f in result_folders:\n",
    "    G = nx.read_gml(network_file_path, destringizer=int)\n",
    "\n",
    "    FINDER_file_path = os.path.join(\".\", \"code\", \"results\", r_f, 'real', 'StepRatio_0.0100',\\\n",
    "                            'MaxCCList_Strategy_{}.txt'.format(data_name))\n",
    "\n",
    "    \n",
    "    FINDER_f = open(FINDER_file_path, \"r\")\n",
    "\n",
    "    scores = []\n",
    "    for score in FINDER_f:\n",
    "        scores.append(float(score))\n",
    "    exp_dict[\"{}_scorefile\".format(r_f)] = scores[::k]"
   ]
  },
  {
   "cell_type": "code",
   "execution_count": 37,
   "metadata": {},
   "outputs": [
    {
     "data": {
      "text/plain": [
       "Text(0, 0.5, 'Graph connectivity ND')"
      ]
     },
     "execution_count": 37,
     "metadata": {},
     "output_type": "execute_result"
    },
    {
     "data": {
      "image/png": "[encoded data removed]",
      "text/plain": [
       "<Figure size 1152x576 with 1 Axes>"
      ]
     },
     "metadata": {
      "needs_background": "light"
     },
     "output_type": "display_data"
    }
   ],
   "source": [
    "from matplotlib import pyplot as plt\n",
    "\n",
    "plt.figure(figsize=(16,8))\n",
    "\n",
    "#plt.plot(CN_scores, label='CN')\n",
    "for key in exp_dict.keys():\n",
    "    plt.plot(exp_dict[key], label=key)\n",
    "    \n",
    "#plt.plot(CI_scores, label='CI')\n",
    "plt.legend()\n",
    "plt.xlabel(\"# iterations of {} node removals\".format(k))\n",
    "plt.ylabel(\"Graph connectivity {}\".format(experiment_type))"
   ]
  },
  {
   "cell_type": "code",
   "execution_count": null,
   "metadata": {},
   "outputs": [],
   "source": []
  }
 ],
 "metadata": {
  "interpreter": {
   "hash": "fc5349db824631747dec4a48095311b718d5086d6d8c5f84c2fe67b5ab78c649"
  },
  "kernelspec": {
   "display_name": "Python 3 (ipykernel)",
   "language": "python",
   "name": "python3"
  },
  "language_info": {
   "codemirror_mode": {
    "name": "ipython",
    "version": 3
   },
   "file_extension": ".py",
   "mimetype": "text/x-python",
   "name": "python",
   "nbconvert_exporter": "python",
   "pygments_lexer": "ipython3",
   "version": "3.7.3"
  }
 },
 "nbformat": 4,
 "nbformat_minor": 4
}
