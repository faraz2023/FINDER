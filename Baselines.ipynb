{
 "cells": [
  {
   "cell_type": "code",
   "execution_count": 9,
   "id": "4d81583d-adf8-450d-9fd9-195d7e0826ab",
   "metadata": {},
   "outputs": [],
   "source": [
    "import networkx as nx\n",
    "import numpy as np\n",
    "import random\n",
    "import os\n",
    "import os\n",
    "from shutil import copyfile\n",
    "from tqdm import tqdm\n",
    "\n"
   ]
  },
  {
   "cell_type": "code",
   "execution_count": 53,
   "id": "f3ff0c32-310a-44a2-b185-0cd24439066d",
   "metadata": {},
   "outputs": [],
   "source": [
    "def make_dir(path):\n",
    "    try: os.makedirs(path)\n",
    "    except: return -1"
   ]
  },
  {
   "cell_type": "code",
   "execution_count": 122,
   "id": "9a2dccf4-fe71-4e8d-9c2c-71d7efa75318",
   "metadata": {},
   "outputs": [
    {
     "data": {
      "text/plain": [
       "-1"
      ]
     },
     "execution_count": 122,
     "metadata": {},
     "output_type": "execute_result"
    }
   ],
   "source": [
    "CNDP_export_path = os.path.join(\".\", \"Baseline_results\")\n",
    "HDA_export_path = os.path.join(CNDP_export_path, \"HDA\")\n",
    "HPRA_export_path = os.path.join(CNDP_export_path, \"HPRA\")\n",
    "CI_export_path = os.path.join(CNDP_export_path, \"CI\")\n",
    "FINDER_torch_export_path = os.path.join(CNDP_export_path, \"FINDER_torch\")\n",
    "\n",
    "#CI_export_path = os.path.join(CNDP_export_path, \"CI\")\n",
    "\n",
    "#make_dir(CNDP_export_path)\n",
    "make_dir(HDA_export_path)\n",
    "make_dir(HPRA_export_path)\n",
    "make_dir(CI_export_path)\n",
    "make_dir(FINDER_torch_export_path)"
   ]
  },
  {
   "cell_type": "code",
   "execution_count": null,
   "id": "30eb8173-be0b-4bc1-ae37-2706764e2d41",
   "metadata": {},
   "outputs": [],
   "source": [
    "# turns node labels into integers from 1 to |V|\n",
    "# turn this into graph-tool?\n",
    "def modify_edgelist(data_dir, save_dir, data_name=['day20']):\n",
    "    for i in range(len(data_name)):\n",
    "        data = os.path.join(data_dir , data_name[i] + '.edgelist')\n",
    "        g = nx.read_edgelist(data)\n",
    "\n",
    "        nodes = g.nodes()\n",
    "        nodes_l = list(nodes)\n",
    "        nodes_l_map = map(int, nodes_l)\n",
    "        nodes_l_int = list(nodes_l_map)\n",
    "        nodes_l_int.sort()\n",
    "\n",
    "        nodes_l_map = map(str, nodes_l_int)\n",
    "        nodes_l = list(nodes_l_map)\n",
    "\n",
    "        new_node_labels = {}\n",
    "        for j in range(len(nodes_l)):\n",
    "            new_node_labels[nodes_l[j]] = str(j)\n",
    "\n",
    "        new_g = nx.relabel_nodes(g, new_node_labels)\n",
    "\n",
    "        nx.write_edgelist(new_g, os.path.join(save_dir, \"{}_modified.edgelist\".format(data_name[i])))"
   ]
  },
  {
   "cell_type": "code",
   "execution_count": null,
   "id": "05b1b557-18f9-4f18-80e6-cf4c2fb3661f",
   "metadata": {},
   "outputs": [],
   "source": [
    "#modify_edgelist(data_dir, save_dir, data_name=['day20'])"
   ]
  },
  {
   "cell_type": "code",
   "execution_count": 100,
   "id": "e6d52d31-2932-49e6-83f6-6aaef5523bc7",
   "metadata": {},
   "outputs": [
    {
     "name": "stdout",
     "output_type": "stream",
     "text": [
      "Number of nodes in the graph: 4165\n",
      "Number of edges in the graph: 13087\n"
     ]
    }
   ],
   "source": [
    "network_file_name = \"HI-II-14_degree\"\n",
    "network_file_path = \"./data/real/cost/{}.gml\".format(network_file_name)\n",
    "G = nx.read_gml(network_file_path, destringizer=int)\n",
    "print(\"Number of nodes in the graph:\", G.number_of_nodes())\n",
    "print(\"Number of edges in the graph:\", G.number_of_edges())"
   ]
  },
  {
   "cell_type": "code",
   "execution_count": 98,
   "id": "3591c2b5-c211-4d38-9b4c-524385acfa78",
   "metadata": {},
   "outputs": [],
   "source": [
    "network_comma_export_path = \"./data/real/{}_comma.txt\".format(network_file_name)\n",
    "nx.write_edgelist(G, network_comma_export_path, delimiter=\",\")"
   ]
  },
  {
   "cell_type": "code",
   "execution_count": 162,
   "id": "8e03275e-946f-4bce-a175-e9e3f4220125",
   "metadata": {},
   "outputs": [],
   "source": [
    "#sum of Zs for connected components / maximum connectivity ((|V|*|V| - 1)/2) where Z=(|CC|* |CC|-1) / 2\n",
    "def calc_parwise_conn(G):\n",
    "    _g_num_nodes = G.number_of_nodes()\n",
    "    if(_g_num_nodes in [0, 1]): return 0\n",
    "    pairwise_connectivity = 0\n",
    "    for i in list(nx.connected_components(G)): pairwise_connectivity += (len(i) * (len(i) -1)) / 2\n",
    "    pc = pairwise_connectivity / (((_g_num_nodes * (_g_num_nodes - 1))) /2)\n",
    "    maxCC = len(max(nx.connected_components(G), key=len))\n",
    "    #print(maxCC)\n",
    "    return maxCC\n",
    "    #return pc"
   ]
  },
  {
   "cell_type": "code",
   "execution_count": 154,
   "id": "1dd1eb16-9493-4ff4-8851-b57634485cd4",
   "metadata": {},
   "outputs": [],
   "source": [
    "# high degree adaptive\n",
    "def HDA(G, k=5e3, write=True):\n",
    "    k = int(k)\n",
    "    pairwise_conn_list = []\n",
    "    pairwise_conn_list.append(calc_parwise_conn(G))\n",
    "\n",
    "    print(\"HDA for k: {}\".format(k))\n",
    "\n",
    "    while(True):\n",
    "        print(\"- \", end=\"\")\n",
    "        degrees = dict(G.degree)\n",
    "        degrees_sorted = list(sorted(degrees.items(), key=lambda item: item[1], reverse=True))\n",
    "\n",
    "        isTerminal = k > len(degrees_sorted)\n",
    "\n",
    "        num_removals = int(min(k, len(degrees_sorted)))\n",
    "        node_degree_pairs = degrees_sorted[0:num_removals]\n",
    "        node_removals = [i[0] for i in node_degree_pairs]\n",
    "\n",
    "        G.remove_nodes_from(node_removals)\n",
    "\n",
    "        pairwise_conn_list.append(calc_parwise_conn(G))\n",
    "\n",
    "        if(isTerminal): break\n",
    "\n",
    "    print(\"\\t-Finished calculations\")\n",
    "\n",
    "    if(write):\n",
    "        result_file = os.path.join(HDA_export_path, \"scores_k_{}.txt\".format(k))\n",
    "        with open(result_file, 'w') as f_out:\n",
    "                for j in range(len(pairwise_conn_list)):\n",
    "                    f_out.write('%.8f\\n' % pairwise_conn_list[j])\n",
    "        print(\"\\t-Finished export\")\n",
    "\n",
    "    return pairwise_conn_list"
   ]
  },
  {
   "cell_type": "code",
   "execution_count": 155,
   "id": "760b9ee8-750f-46d5-bbc0-fb04be449303",
   "metadata": {},
   "outputs": [],
   "source": [
    "# high pageRank adaptive\n",
    "def HPRA(G, k=5e3, alpha=0.85, write=True):\n",
    "    k = int(k)\n",
    "    pairwise_conn_list = []\n",
    "    pairwise_conn_list.append(calc_parwise_conn(G))\n",
    "\n",
    "    print(\"HPRA for k: {}, alpha: {}\".format(k, alpha))\n",
    "\n",
    "    while(True):\n",
    "        print(\"- \", end=\"\")\n",
    "        prs = nx.pagerank(G, alpha=alpha)\n",
    "        prs_sorted = list(sorted(prs.items(), key=lambda item: item[1], reverse=True))\n",
    "\n",
    "        isTerminal = k > len(prs_sorted)\n",
    "\n",
    "        num_removals = int(min(k, len(prs_sorted)))\n",
    "        node_pr_pairs = prs_sorted[0:num_removals]\n",
    "        node_removals = [i[0] for i in node_pr_pairs]\n",
    "\n",
    "        G.remove_nodes_from(node_removals)\n",
    "\n",
    "        pairwise_conn_list.append(calc_parwise_conn(G))\n",
    "\n",
    "        if(isTerminal): break\n",
    "\n",
    "    print(\"\\t-Finished calculations\")\n",
    "    if(write):\n",
    "        result_file = os.path.join(HPRA_export_path, \"scores_k_{}_alpha_{}.txt\".format(k, alpha))\n",
    "        with open(result_file, 'w') as f_out:\n",
    "                for j in range(len(pairwise_conn_list)):\n",
    "                    f_out.write('%.8f\\n' % pairwise_conn_list[j])\n",
    "\n",
    "        print(\"\\t-Finished export\")\n",
    "\n",
    "\n",
    "    return pairwise_conn_list"
   ]
  },
  {
   "cell_type": "code",
   "execution_count": 156,
   "id": "e34ffaaa-d070-419f-9b3d-eaa741365dce",
   "metadata": {},
   "outputs": [
    {
     "data": {
      "text/plain": [
       "'\\ndef calc_CI_score(G, node_files, k=5e3, write=True):\\n    k = int(k)\\n    pairwise_conn_list = []\\n    pairwise_conn_list.append(calc_parwise_conn(G))\\n\\n    f = open(node_files,\\'r\\')\\n    node_removals = []\\n    for idx, line in enumerate(f.readlines()):\\n        nodes_line = line.split(\",\")[1:]\\n        node_removals = node_removals + nodes_line\\n\\n    node_removals = [int(node_removals[i]) for i in range(len(node_removals))]\\n    while(True):\\n        print(\"- \", end=\"\")\\n\\n        isTerminal = k > len(node_removals)\\n\\n        num_removals = int(min(k, len(node_removals)))\\n        curr_node_removals = node_removals[0:num_removals]\\n\\n        G.remove_nodes_from(curr_node_removals)\\n\\n        pairwise_conn_list.append(calc_parwise_conn(G))\\n\\n        node_removals = node_removals[num_removals:]\\n        if(isTerminal): break\\n\\n    print(\"\\t-Finished calculations\")\\n    if(write):\\n        result_file = os.path.join(CI_export_path, \"scores_k_{}.txt\".format(k))\\n        with open(result_file, \\'w\\') as f_out:\\n                for j in range(len(pairwise_conn_list)):\\n                    f_out.write(\\'%.8f\\n\\' % pairwise_conn_list[j])\\n\\n        print(\"\\t-Finished export\")\\n\\n\\n    return pairwise_conn_list\\n'"
      ]
     },
     "execution_count": 156,
     "metadata": {},
     "output_type": "execute_result"
    }
   ],
   "source": [
    "'''\n",
    "def calc_CI_score(G, node_files, k=5e3, write=True):\n",
    "    k = int(k)\n",
    "    pairwise_conn_list = []\n",
    "    pairwise_conn_list.append(calc_parwise_conn(G))\n",
    "\n",
    "    f = open(node_files,'r')\n",
    "    node_removals = []\n",
    "    for idx, line in enumerate(f.readlines()):\n",
    "        nodes_line = line.split(\",\")[1:]\n",
    "        node_removals = node_removals + nodes_line\n",
    "\n",
    "    node_removals = [int(node_removals[i]) for i in range(len(node_removals))]\n",
    "    while(True):\n",
    "        print(\"- \", end=\"\")\n",
    "\n",
    "        isTerminal = k > len(node_removals)\n",
    "\n",
    "        num_removals = int(min(k, len(node_removals)))\n",
    "        curr_node_removals = node_removals[0:num_removals]\n",
    "\n",
    "        G.remove_nodes_from(curr_node_removals)\n",
    "\n",
    "        pairwise_conn_list.append(calc_parwise_conn(G))\n",
    "\n",
    "        node_removals = node_removals[num_removals:]\n",
    "        if(isTerminal): break\n",
    "\n",
    "    print(\"\\t-Finished calculations\")\n",
    "    if(write):\n",
    "        result_file = os.path.join(CI_export_path, \"scores_k_{}.txt\".format(k))\n",
    "        with open(result_file, 'w') as f_out:\n",
    "                for j in range(len(pairwise_conn_list)):\n",
    "                    f_out.write('%.8f\\n' % pairwise_conn_list[j])\n",
    "\n",
    "        print(\"\\t-Finished export\")\n",
    "\n",
    "\n",
    "    return pairwise_conn_list\n",
    "'''"
   ]
  },
  {
   "cell_type": "code",
   "execution_count": 157,
   "id": "7366a9e8-826f-466a-b7db-ba97c40170c3",
   "metadata": {},
   "outputs": [],
   "source": [
    "def calc_score_from_nodes_file(G, node_files, export_path, k=5e3, write=True, start_idx=1):\n",
    "    k = int(k)\n",
    "    pairwise_conn_list = []\n",
    "    pairwise_conn_list.append(calc_parwise_conn(G))\n",
    "\n",
    "    f = open(node_files,'r')\n",
    "    node_removals = []\n",
    "    for idx, line in enumerate(f.readlines()):\n",
    "        nodes_line = line.split(\",\")[start_idx:]\n",
    "        node_removals = node_removals + nodes_line\n",
    "\n",
    "    \n",
    "    node_removals = [int(node_removals[i]) for i in range(len(node_removals))]\n",
    "    print(len(node_removals))\n",
    "    while(True):\n",
    "        print(\"- \", end=\"\")\n",
    "\n",
    "        isTerminal = k > len(node_removals)\n",
    "\n",
    "        num_removals = int(min(k, len(node_removals)))\n",
    "        curr_node_removals = node_removals[0:num_removals]\n",
    "\n",
    "        G.remove_nodes_from(curr_node_removals)\n",
    "\n",
    "        pairwise_conn_list.append(calc_parwise_conn(G))\n",
    "\n",
    "        node_removals = node_removals[num_removals:]\n",
    "        if(isTerminal): break\n",
    "\n",
    "    print(\"\\t-Finished calculations\")\n",
    "    if(write):\n",
    "        result_file = os.path.join(export_path, \"scores_k_{}.txt\".format(k))\n",
    "        with open(result_file, 'w') as f_out:\n",
    "                for j in range(len(pairwise_conn_list)):\n",
    "                    f_out.write('%.8f\\n' % pairwise_conn_list[j])\n",
    "\n",
    "        print(\"\\t-Finished export\")\n",
    "\n",
    "\n",
    "    return pairwise_conn_list"
   ]
  },
  {
   "cell_type": "code",
   "execution_count": 163,
   "id": "b8016b35-beb4-4a26-86cb-1f832eeefd3f",
   "metadata": {},
   "outputs": [
    {
     "name": "stdout",
     "output_type": "stream",
     "text": [
      "Successfully imported graph with nodes: 4165\n",
      "HDA for k: 41\n",
      "- - - - - - - - - - - - - - - - - - - - - - - - - - - - - - - - - - - - - - - - - - - - - - - - - - - - - - - - - - - - - - - - - - - - - - - - - - - - - - - - - - - - - - - - - - - - - - - - - - - - - - \t-Finished calculations\n",
      "\t-Finished export\n"
     ]
    }
   ],
   "source": [
    "step_ratios = [0.01]\n",
    "\n",
    "\n",
    "for s_r in step_ratios: \n",
    "    G = nx.read_gml(network_file_path, destringizer=int)\n",
    "    _g_num_nodes = G.number_of_nodes()\n",
    "    k = int(s_r*_g_num_nodes)\n",
    "    print(\"Successfully imported graph with nodes:\", _g_num_nodes)\n",
    "    HDA_scores = HDA(G, k=k)"
   ]
  },
  {
   "cell_type": "code",
   "execution_count": 164,
   "id": "ab1437f5-3935-4863-b0af-2c38f0305149",
   "metadata": {},
   "outputs": [
    {
     "name": "stdout",
     "output_type": "stream",
     "text": [
      "Successfully imported graph with nodes: 4165\n",
      "HPRA for k: 41, alpha: 0.8\n",
      "- - - - - - - - - - - - - - - - - - - - - - - - - - - - - - - - - - - - - - - - - - - - - - - - - - - - - - - - - - - - - - - - - - - - - - - - - - - - - - - - - - - - - - - - - - - - - - - - - - - - - - \t-Finished calculations\n",
      "\t-Finished export\n",
      "Successfully imported graph with nodes: 4165\n",
      "HPRA for k: 41, alpha: 0.85\n",
      "- - - - - - - - - - - - - - - - - - - - - - - - - - - - - - - - - - - - - - - - - - - - - - - - - - - - - - - - - - - - - - - - - - - - - - - - - - - - - - - - - - - - - - - - - - - - - - - - - - - - - - \t-Finished calculations\n",
      "\t-Finished export\n",
      "Successfully imported graph with nodes: 4165\n",
      "HPRA for k: 41, alpha: 0.9\n",
      "- - - - - - - - - - - - - - - - - - - - - - - - - - - - - - - - - - - - - - - - - - - - - - - - - - - - - - - - - - - - - - - - - - - - - - - - - - - - - - - - - - - - - - - - - - - - - - - - - - - - - - \t-Finished calculations\n",
      "\t-Finished export\n"
     ]
    }
   ],
   "source": [
    "step_ratios = [0.01]\n",
    "Alphas = [0.8, 0.85, 0.9]\n",
    "\n",
    "for s_r in step_ratios: \n",
    "    for alpha in Alphas:\n",
    "        G = nx.read_gml(network_file_path, destringizer=int)\n",
    "        _g_num_nodes = G.number_of_nodes()\n",
    "        k = int(s_r*_g_num_nodes)\n",
    "        print(\"Successfully imported graph with nodes:\", _g_num_nodes)\n",
    "        HPRA_scores = HPRA(G, k=k, alpha=alpha)"
   ]
  },
  {
   "cell_type": "code",
   "execution_count": 165,
   "id": "177e3b00-515f-478a-a74e-2b5193731035",
   "metadata": {},
   "outputs": [
    {
     "name": "stdout",
     "output_type": "stream",
     "text": [
      "4165\n",
      "452\n",
      "- - - - - - - - - - - - \t-Finished calculations\n",
      "\t-Finished export\n"
     ]
    }
   ],
   "source": [
    "# for Collective Influence (CI)\n",
    "s_r = 0.01\n",
    "\n",
    "# you need to run CI first\n",
    "CI_file_path = os.path.join(\".\", \"data\", \"real\", \"HI-II-14_degree_comma.txt_out\")\n",
    "\n",
    "G = nx.read_gml(network_file_path, destringizer=int)\n",
    "_g_num_nodes = G.number_of_nodes()\n",
    "print(_g_num_nodes)\n",
    "k = int(s_r*_g_num_nodes)\n",
    "\n",
    "CI_scores = calc_score_from_nodes_file(G, CI_file_path, CI_export_path, k=k, write=True)\n"
   ]
  },
  {
   "cell_type": "code",
   "execution_count": 166,
   "id": "7dc5de7c-7ced-4547-8166-b81272ea1fd9",
   "metadata": {},
   "outputs": [
    {
     "name": "stdout",
     "output_type": "stream",
     "text": [
      "4165\n",
      "3020\n",
      "- - - - - - - - - - - - - - - - - - - - - - - - - - - - - - - - - - - - - - - - - - - - - - - - - - - - - - - - - - - - - - - - - - - - - - - - - - \t-Finished calculations\n",
      "\t-Finished export\n"
     ]
    }
   ],
   "source": [
    "# for FINDER ND Cost Torch\n",
    "s_r = 0.01\n",
    "\n",
    "# you need to run CI first\n",
    "FINDER_torch_file_path = os.path.join(\".\", \"code\", \"results\", \"FINDER_ND_cost\", 'real', 'Data_degree',\\\n",
    "                            'StepRatio_0.0100', 'HI-II-14_degree.txt')\n",
    "\n",
    "G = nx.read_gml(network_file_path, destringizer=int)\n",
    "_g_num_nodes = G.number_of_nodes()\n",
    "print(_g_num_nodes)\n",
    "k = int(s_r*_g_num_nodes)\n",
    "\n",
    "FINDER_torch_scores = calc_score_from_nodes_file(G, FINDER_torch_file_path, FINDER_torch_export_path, k=k, write=True, start_idx=0)\n"
   ]
  },
  {
   "cell_type": "code",
   "execution_count": 167,
   "id": "39d92010-59c7-460b-933f-bb5b4a1b2ec2",
   "metadata": {},
   "outputs": [],
   "source": [
    "exp_dict = {}\n"
   ]
  },
  {
   "cell_type": "code",
   "execution_count": 168,
   "id": "9dba6f4c-e004-433e-8478-f4c9c24d5781",
   "metadata": {},
   "outputs": [],
   "source": [
    "step_ratios = [0.01]\n",
    "Alphas = [0.8, 0.85, 0.9]\n",
    "\n",
    "for s_r in step_ratios:\n",
    "    k = int(s_r*_g_num_nodes)\n",
    "    for alpha in Alphas:\n",
    "        dst_path = os.path.join(HPRA_export_path, \"scores_k_{}_alpha_{}.txt\".format(k, alpha))\n",
    "        f = open(dst_path,'r')\n",
    "        scores = []\n",
    "        for idx, value in enumerate(f.readlines()):\n",
    "            value = float(value)\n",
    "            scores.append(value)\n",
    "\n",
    "        #scores = scores[::int(5000/k)]\n",
    "\n",
    "        exp_dict[\"HPRA α: {}, k: {}\".format(alpha, k)] = scores"
   ]
  },
  {
   "cell_type": "code",
   "execution_count": 169,
   "id": "4d0f7de0-7b16-410f-beee-ee61f0552fdb",
   "metadata": {},
   "outputs": [],
   "source": [
    "for s_r in step_ratios:\n",
    "    k = int(s_r*_g_num_nodes)\n",
    "    dst_path = os.path.join(HDA_export_path, \"scores_k_{}.txt\".format(k))\n",
    "    f = open(dst_path,'r')\n",
    "    scores = []\n",
    "    for idx, value in enumerate(f.readlines()):\n",
    "        value = float(value)\n",
    "        scores.append(value)\n",
    "\n",
    "    #scores = scores[::int(5000/k)]\n",
    "\n",
    "    exp_dict[\"HDA k: {}\".format(k)] = scores"
   ]
  },
  {
   "cell_type": "code",
   "execution_count": null,
   "id": "4a5537db-82b3-46f9-b1ab-8c4a090e342a",
   "metadata": {},
   "outputs": [],
   "source": []
  },
  {
   "cell_type": "code",
   "execution_count": 170,
   "id": "7af832ca-57b7-4e6e-8aaa-f577dc80968d",
   "metadata": {},
   "outputs": [
    {
     "data": {
      "text/plain": [
       "Text(0, 0.5, 'Pairwise connectivity')"
      ]
     },
     "execution_count": 170,
     "metadata": {},
     "output_type": "execute_result"
    },
    {
     "data": {
      "image/png": "[encoded data removed]",
      "text/plain": [
       "<Figure size 1152x576 with 1 Axes>"
      ]
     },
     "metadata": {
      "needs_background": "light"
     },
     "output_type": "display_data"
    }
   ],
   "source": [
    "from matplotlib import pyplot as plt\n",
    "\n",
    "plt.figure(figsize=(16,8))\n",
    "plt.plot(FINDER_torch_scores, label='FINDER ND cost torch')\n",
    "#plt.plot(CN_scores, label='CN')\n",
    "for key in exp_dict.keys():\n",
    "    plt.plot(exp_dict[key], label=key)\n",
    "    \n",
    "plt.plot(CI_scores, label='CI')\n",
    "plt.legend()\n",
    "plt.xlabel(\"# nodes removed(*5e3)\")\n",
    "plt.ylabel(\"Pairwise connectivity\")"
   ]
  },
  {
   "cell_type": "code",
   "execution_count": 171,
   "id": "68b3a640-d78d-40be-8526-822e40365c40",
   "metadata": {},
   "outputs": [
    {
     "data": {
      "text/plain": [
       "75"
      ]
     },
     "execution_count": 171,
     "metadata": {},
     "output_type": "execute_result"
    }
   ],
   "source": [
    "len(FINDER_torch_scores)"
   ]
  },
  {
   "cell_type": "code",
   "execution_count": null,
   "id": "e744a112-6175-4444-a39e-514c550c13f3",
   "metadata": {},
   "outputs": [],
   "source": []
  },
  {
   "cell_type": "code",
   "execution_count": null,
   "id": "57dc8a35-0163-4c8c-bb6f-a56fbf52b78f",
   "metadata": {},
   "outputs": [],
   "source": []
  }
 ],
 "metadata": {
  "kernelspec": {
   "display_name": "Python 3 (ipykernel)",
   "language": "python",
   "name": "python3"
  },
  "language_info": {
   "codemirror_mode": {
    "name": "ipython",
    "version": 3
   },
   "file_extension": ".py",
   "mimetype": "text/x-python",
   "name": "python",
   "nbconvert_exporter": "python",
   "pygments_lexer": "ipython3",
   "version": "3.9.7"
  }
 },
 "nbformat": 4,
 "nbformat_minor": 5
}
