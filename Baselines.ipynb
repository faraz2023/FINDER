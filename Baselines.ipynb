{
 "cells": [
  {
   "cell_type": "code",
   "execution_count": 20,
   "id": "4d81583d-adf8-450d-9fd9-195d7e0826ab",
   "metadata": {},
   "outputs": [],
   "source": [
    "import networkx as nx\n",
    "import numpy as np\n",
    "import random\n",
    "import os\n",
    "import os\n",
    "from shutil import copyfile\n",
    "from tqdm import tqdm\n",
    "\n",
    "data_name = \"HI-II-14\" #HI-II-14, Digg\n",
    "experiment_type = \"ND\"\n",
    "step_ratio = 0.01\n",
    "read_file_inverse=False\n",
    "torch_costs = ['degree', 'zero', '001']\n",
    "tf_costs = ['random', 'degree', 'zero', '001']"
   ]
  },
  {
   "cell_type": "code",
   "execution_count": 2,
   "id": "38807a64-9c23-4555-9f65-db46b8968f94",
   "metadata": {},
   "outputs": [],
   "source": []
  },
  {
   "cell_type": "code",
   "execution_count": 3,
   "id": "f3ff0c32-310a-44a2-b185-0cd24439066d",
   "metadata": {},
   "outputs": [],
   "source": [
    "def make_dir(path):\n",
    "    try: os.makedirs(path)\n",
    "    except: return -1"
   ]
  },
  {
   "cell_type": "code",
   "execution_count": 37,
   "id": "9a2dccf4-fe71-4e8d-9c2c-71d7efa75318",
   "metadata": {},
   "outputs": [
    {
     "data": {
      "text/plain": [
       "-1"
      ]
     },
     "execution_count": 37,
     "metadata": {},
     "output_type": "execute_result"
    }
   ],
   "source": [
    "CNDP_export_path = os.path.join(\".\", \"Baseline_results\")\n",
    "HDA_export_path = os.path.join(CNDP_export_path, \"{}_HDA\".format(experiment_type))\n",
    "HPRA_export_path = os.path.join(CNDP_export_path, \"{}_HPRA\".format(experiment_type))\n",
    "CI_export_path = os.path.join(CNDP_export_path, \"{}_CI\".format(experiment_type))\n",
    "FINDER_torch_export_path = os.path.join(CNDP_export_path, \"{}_FINDER_torch\".format(experiment_type))\n",
    "FINDER_tf_export_path = os.path.join(CNDP_export_path, \"{}_FINDER_tf\".format(experiment_type))\n",
    "\n",
    "#CI_export_path = os.path.join(CNDP_export_path, \"CI\")\n",
    "\n",
    "#make_dir(CNDP_export_path)\n",
    "make_dir(HDA_export_path)\n",
    "make_dir(HPRA_export_path)\n",
    "make_dir(CI_export_path)\n",
    "make_dir(FINDER_torch_export_path)\n",
    "make_dir(FINDER_tf_export_path)"
   ]
  },
  {
   "cell_type": "code",
   "execution_count": 38,
   "id": "30eb8173-be0b-4bc1-ae37-2706764e2d41",
   "metadata": {},
   "outputs": [],
   "source": [
    "# turns node labels into integers from 1 to |V|\n",
    "# turn this into graph-tool?\n",
    "def modify_edgelist(data_dir, save_dir, data_name=['day20']):\n",
    "    for i in range(len(data_name)):\n",
    "        data = os.path.join(data_dir , data_name[i] + '.edgelist')\n",
    "        g = nx.read_edgelist(data)\n",
    "\n",
    "        nodes = g.nodes()\n",
    "        nodes_l = list(nodes)\n",
    "        nodes_l_map = map(int, nodes_l)\n",
    "        nodes_l_int = list(nodes_l_map)\n",
    "        nodes_l_int.sort()\n",
    "\n",
    "        nodes_l_map = map(str, nodes_l_int)\n",
    "        nodes_l = list(nodes_l_map)\n",
    "\n",
    "        new_node_labels = {}\n",
    "        for j in range(len(nodes_l)):\n",
    "            new_node_labels[nodes_l[j]] = str(j)\n",
    "\n",
    "        new_g = nx.relabel_nodes(g, new_node_labels)\n",
    "\n",
    "        nx.write_edgelist(new_g, os.path.join(save_dir, \"{}_modified.edgelist\".format(data_name[i])))"
   ]
  },
  {
   "cell_type": "code",
   "execution_count": 39,
   "id": "05b1b557-18f9-4f18-80e6-cf4c2fb3661f",
   "metadata": {},
   "outputs": [],
   "source": [
    "#modify_edgelist(data_dir, save_dir, data_name=['day20'])"
   ]
  },
  {
   "cell_type": "code",
   "execution_count": 26,
   "id": "e6d52d31-2932-49e6-83f6-6aaef5523bc7",
   "metadata": {},
   "outputs": [
    {
     "name": "stdout",
     "output_type": "stream",
     "text": [
      "Number of nodes in the graph: 4165\n",
      "Number of edges in the graph: 13087\n",
      "Node removals per iteration:  41\n",
      "Total possible pairwise connectivity 8671530\n",
      "4165\n"
     ]
    }
   ],
   "source": [
    "network_file_name = \"{}_degree\".format(data_name)\n",
    "network_file_path = \"./data/real/cost/{}.gml\".format(network_file_name)\n",
    "G = nx.read_gml(network_file_path, destringizer=int)\n",
    "print(\"Number of nodes in the graph:\", G.number_of_nodes())\n",
    "print(\"Number of edges in the graph:\", G.number_of_edges())\n",
    "\n",
    "G_size = G.number_of_nodes()\n",
    "#total possible pairwise connectivity\n",
    "CN_denom = (((G_size * (G_size - 1))) /2)\n",
    "k = int(G_size * step_ratio)\n",
    "print(\"Node removals per iteration: \", k)\n",
    "print(\"Total possible pairwise connectivity\", int(CN_denom))\n",
    "\n",
    "_g_num_nodes = G.number_of_nodes()\n",
    "_CN_denom = (((_g_num_nodes * (_g_num_nodes - 1))) /2)\n",
    "\n",
    "print(_g_num_nodes)\n",
    "def calc_graph_connectivity(G, experiment_type=experiment_type):\n",
    "    if(G.number_of_nodes() in [0, 1]): return 0\n",
    "    if(experiment_type==\"CN\"):\n",
    "        pairwise_connectivity = 0\n",
    "        for i in list(nx.connected_components(G)): pairwise_connectivity += (len(i) * (len(i) -1)) / 2\n",
    "        pc = pairwise_connectivity / _CN_denom\n",
    "        return pc\n",
    "    else:\n",
    "        maxCC = len(max(nx.connected_components(G), key=len))\n",
    "        #print(maxCC , _g_num_nodes)\n",
    "        return maxCC / _g_num_nodes\n"
   ]
  },
  {
   "cell_type": "code",
   "execution_count": 41,
   "id": "e41def8c-b3d0-473f-baba-709006339c09",
   "metadata": {},
   "outputs": [
    {
     "data": {
      "text/plain": [
       "'\\nnetwork_file_name = \"{}_degree\".format(data_name)\\nnetwork_file_path = \"./data/real/cost/{}.gml\".format(network_file_name)\\nG = nx.read_gml(network_file_path, destringizer=int)\\nprint(\"Number of nodes in the graph:\", G.number_of_nodes())\\nprint(\"Number of edges in the graph:\", G.number_of_edges())\\n'"
      ]
     },
     "execution_count": 41,
     "metadata": {},
     "output_type": "execute_result"
    }
   ],
   "source": [
    "'''\n",
    "network_file_name = \"{}_degree\".format(data_name)\n",
    "network_file_path = \"./data/real/cost/{}.gml\".format(network_file_name)\n",
    "G = nx.read_gml(network_file_path, destringizer=int)\n",
    "print(\"Number of nodes in the graph:\", G.number_of_nodes())\n",
    "print(\"Number of edges in the graph:\", G.number_of_edges())\n",
    "'''"
   ]
  },
  {
   "cell_type": "code",
   "execution_count": 42,
   "id": "029cdf4e-8324-4a22-a0ef-aee20d828ae6",
   "metadata": {},
   "outputs": [],
   "source": [
    "\n",
    "for node in G.nodes():\n",
    "    G.nodes[node]['weight'] = 0.01\n",
    "network_file_path = \"./data/real/cost/{}_001.gml\".format(data_name)\n",
    "nx.write_gml(G, network_file_path)\n"
   ]
  },
  {
   "cell_type": "code",
   "execution_count": 74,
   "id": "cfbdde26-cff0-4cec-a8aa-364c61058696",
   "metadata": {},
   "outputs": [
    {
     "name": "stdout",
     "output_type": "stream",
     "text": [
      "4165\n"
     ]
    }
   ],
   "source": []
  },
  {
   "cell_type": "code",
   "execution_count": 43,
   "id": "3591c2b5-c211-4d38-9b4c-524385acfa78",
   "metadata": {},
   "outputs": [],
   "source": [
    "network_comma_export_path = \"./data/real/{}_comma.txt\".format(network_file_name)\n",
    "nx.write_edgelist(G, network_comma_export_path, delimiter=\",\")"
   ]
  },
  {
   "cell_type": "code",
   "execution_count": 24,
   "id": "8e03275e-946f-4bce-a175-e9e3f4220125",
   "metadata": {},
   "outputs": [],
   "source": [
    "\n"
   ]
  },
  {
   "cell_type": "code",
   "execution_count": 45,
   "id": "760b9ee8-750f-46d5-bbc0-fb04be449303",
   "metadata": {},
   "outputs": [],
   "source": [
    "# high pageRank adaptive\n",
    "def HPRA(G, k=k, alpha=0.85, write=True):\n",
    "    k = int(k)\n",
    "    pairwise_conn_list = []\n",
    "    pairwise_conn_list.append(calc_graph_connectivity(G))\n",
    "\n",
    "    print(\"HPRA for k: {}, alpha: {}\".format(k, alpha))\n",
    "\n",
    "    while(True):\n",
    "        print(\"- \", end=\"\")\n",
    "        prs = nx.pagerank(G, alpha=alpha)\n",
    "        prs_sorted = list(sorted(prs.items(), key=lambda item: item[1], reverse=True))\n",
    "\n",
    "        isTerminal = k > len(prs_sorted)\n",
    "\n",
    "        num_removals = int(min(k, len(prs_sorted)))\n",
    "        node_pr_pairs = prs_sorted[0:num_removals]\n",
    "        node_removals = [i[0] for i in node_pr_pairs]\n",
    "\n",
    "        G.remove_nodes_from(node_removals)\n",
    "\n",
    "        pairwise_conn_list.append(calc_graph_connectivity(G))\n",
    "\n",
    "        if(isTerminal): break\n",
    "\n",
    "    print(\"\\t-Finished calculations\")\n",
    "    if(write):\n",
    "        result_file = os.path.join(HPRA_export_path, \"{}_scores_k_{}_alpha_{}.txt\".format(data_name, k, alpha))\n",
    "        with open(result_file, 'w') as f_out:\n",
    "                for j in range(len(pairwise_conn_list)):\n",
    "                    f_out.write('%.8f\\n' % pairwise_conn_list[j])\n",
    "\n",
    "        print(\"\\t-Finished export\")\n",
    "\n",
    "\n",
    "    return pairwise_conn_list"
   ]
  },
  {
   "cell_type": "code",
   "execution_count": 46,
   "id": "1dd1eb16-9493-4ff4-8851-b57634485cd4",
   "metadata": {},
   "outputs": [],
   "source": [
    "# high degree adaptive\n",
    "def HDA(G, k=k, write=True):\n",
    "    pairwise_conn_list = []\n",
    "    pairwise_conn_list.append(calc_graph_connectivity(G))\n",
    "\n",
    "    print(\"HDA for k: {}\".format(k))\n",
    "\n",
    "    while(True):\n",
    "        print(\"- \", end=\"\")\n",
    "        degrees = dict(G.degree)\n",
    "        degrees_sorted = list(sorted(degrees.items(), key=lambda item: item[1], reverse=True))\n",
    "        isTerminal = k > len(degrees_sorted)\n",
    "\n",
    "        num_removals = int(min(k, len(degrees_sorted)))\n",
    "        node_degree_pairs = degrees_sorted[0:num_removals]\n",
    "        node_removals = [i[0] for i in node_degree_pairs]\n",
    "\n",
    "        G.remove_nodes_from(node_removals)\n",
    "\n",
    "        pairwise_conn_list.append(calc_graph_connectivity(G))\n",
    "\n",
    "        if(isTerminal): break\n",
    "\n",
    "    print(\"\\t-Finished calculations\")\n",
    "\n",
    "    if(write):\n",
    "        result_file = os.path.join(HDA_export_path, \"{}_scores_k_{}.txt\".format(data_name, k))\n",
    "        with open(result_file, 'w') as f_out:\n",
    "                for j in range(len(pairwise_conn_list)):\n",
    "                    f_out.write('%.8f\\n' % pairwise_conn_list[j])\n",
    "        print(\"\\t-Finished export\")\n",
    "\n",
    "    return pairwise_conn_list"
   ]
  },
  {
   "cell_type": "code",
   "execution_count": 47,
   "id": "7366a9e8-826f-466a-b7db-ba97c40170c3",
   "metadata": {},
   "outputs": [],
   "source": [
    "def calc_score_from_nodes_file(G, node_files, export_path, k=k, write=True, start_idx=1, read_file_inverse=False):\n",
    "    pairwise_conn_list = []\n",
    "    pairwise_conn_list.append(calc_graph_connectivity(G))\n",
    "\n",
    "    f = open(node_files,'r')\n",
    "    node_removals = []\n",
    "    for idx, line in enumerate(f.readlines()):\n",
    "        nodes_line = line.split(\",\")[start_idx:]\n",
    "        node_removals = node_removals + nodes_line\n",
    "\n",
    "    \n",
    "    node_removals = [int(node_removals[i]) for i in range(len(node_removals))]\n",
    "    if(read_file_inverse):\n",
    "        node_removals = node_removals[::-1]\n",
    "    while(True):\n",
    "        print(\"- \", end=\"\")\n",
    "\n",
    "        isTerminal = k > len(node_removals)\n",
    "\n",
    "        num_removals = int(min(k, len(node_removals)))\n",
    "        curr_node_removals = node_removals[0:num_removals]\n",
    "        #print(curr_node_removals)\n",
    "        #print(\"=======\")\n",
    "        G.remove_nodes_from(curr_node_removals)\n",
    "\n",
    "        pairwise_conn_list.append(calc_graph_connectivity(G))\n",
    "\n",
    "        node_removals = node_removals[num_removals:]\n",
    "        if(isTerminal): break\n",
    "\n",
    "    print(\"\\t-Finished calculations\")\n",
    "    if(write):\n",
    "        result_file = os.path.join(export_path, \"scores_k_{}.txt\".format(k))\n",
    "        with open(result_file, 'w') as f_out:\n",
    "                for j in range(len(pairwise_conn_list)):\n",
    "                    f_out.write('%.8f\\n' % pairwise_conn_list[j])\n",
    "\n",
    "        print(\"\\t-Finished export\")\n",
    "\n",
    "\n",
    "    return pairwise_conn_list"
   ]
  },
  {
   "cell_type": "code",
   "execution_count": 76,
   "id": "b8016b35-beb4-4a26-86cb-1f832eeefd3f",
   "metadata": {},
   "outputs": [
    {
     "name": "stdout",
     "output_type": "stream",
     "text": [
      "HDA for k: 41\n",
      "- - - - - - - - - - - - - - - - - - - - - - - - - - - - - - - - - - - - - - - - - - - - - - - - - - - - - - - - - - - - - - - - - - - - - - - - - - - - - - - - - - - - - - - - - - - - - - - - - - - - - - \t-Finished calculations\n",
      "\t-Finished export\n"
     ]
    }
   ],
   "source": [
    "G = nx.read_gml(network_file_path, destringizer=int)\n",
    "HDA_scores = HDA(G, k=k)"
   ]
  },
  {
   "cell_type": "code",
   "execution_count": 77,
   "id": "ab1437f5-3935-4863-b0af-2c38f0305149",
   "metadata": {},
   "outputs": [
    {
     "data": {
      "text/plain": [
       "'\\nAlphas = [0.8, 0.85, 0.9]\\n\\n\\nfor alpha in Alphas:\\n    G = nx.read_gml(network_file_path, destringizer=int)\\n    print(\"Successfully imported graph with nodes:\", _g_num_nodes)\\n    HPRA_scores = HPRA(G, k=k, alpha=alpha)\\n'"
      ]
     },
     "execution_count": 77,
     "metadata": {},
     "output_type": "execute_result"
    }
   ],
   "source": [
    "\"\"\"\n",
    "Alphas = [0.8, 0.85, 0.9]\n",
    "\n",
    "\n",
    "for alpha in Alphas:\n",
    "    G = nx.read_gml(network_file_path, destringizer=int)\n",
    "    print(\"Successfully imported graph with nodes:\", _g_num_nodes)\n",
    "    HPRA_scores = HPRA(G, k=k, alpha=alpha)\n",
    "\"\"\""
   ]
  },
  {
   "cell_type": "code",
   "execution_count": 78,
   "id": "9fea57ce-e965-45a6-a2be-2c5a6d681bc4",
   "metadata": {},
   "outputs": [],
   "source": [
    "exp_dict = {\n",
    "            \"HDA_scores\":HDA_scores\n",
    "           }\n",
    "\n"
   ]
  },
  {
   "cell_type": "code",
   "execution_count": 79,
   "id": "7dc5de7c-7ced-4547-8166-b81272ea1fd9",
   "metadata": {},
   "outputs": [
    {
     "name": "stdout",
     "output_type": "stream",
     "text": [
      "- - - - - - - - - - - - - - - - - - - - - - - - - - - - - - - - - - - - - - - - - - - - - - - - - - - - - - - - - - - - - - - - - - - - - - - - - - \t-Finished calculations\n",
      "\t-Finished export\n",
      "- - - - - - - - - - - - - - - - - - - - - - - - - - - - - - - - - - - - - - - - - - - - - - - - - - - - - - - - - - - - - - - - - - - - - - \t-Finished calculations\n",
      "\t-Finished export\n",
      "- - - - - - - - - - - - - - - - - - - - - - - - - - - - - - - - - - - - - - - - - - - - - - - - - - - - - - - - - - - - - - - - - - - - - \t-Finished calculations\n",
      "\t-Finished export\n"
     ]
    }
   ],
   "source": [
    "# torch\n",
    "for weight_type in torch_costs:\n",
    "    network_file_name = \"{}_{}\".format(data_name, weight_type)\n",
    "\n",
    "    torch_FINDER_nodefile_degree_scores = None\n",
    "    FINDER_torch_file_path = os.path.join(\".\", \"code\", \"results\", \"FINDER_{}_cost\".format(experiment_type), 'real', 'Data_{}'.format(weight_type),\\\n",
    "                                'StepRatio_0.0100', '{}.txt'.format(network_file_name))\n",
    "\n",
    "    G = nx.read_gml(network_file_path, destringizer=int)\n",
    "\n",
    "    curr_sccores = calc_score_from_nodes_file(G, FINDER_torch_file_path, FINDER_torch_export_path, k=k, write=True, start_idx=0, read_file_inverse=read_file_inverse)\n",
    "    exp_dict[\"torch_{}_scores_nodefile\".format(weight_type)] = curr_sccores"
   ]
  },
  {
   "cell_type": "code",
   "execution_count": 80,
   "id": "6f943223-e156-4ed0-ba70-56326b89b86a",
   "metadata": {},
   "outputs": [],
   "source": [
    "# torch from strategy files\n",
    "for weight_type in torch_costs:\n",
    "\n",
    "    network_file_name = \"{}_{}\".format(data_name, weight_type)\n",
    "\n",
    "    try:\n",
    "        FINDER_tf_fscores_file = os.path.join(\".\", \"code\", \"results\", \"FINDER_{}_cost\".format(experiment_type), 'real', 'Data_{}'.format(weight_type),\\\n",
    "                                    'StepRatio_0.0100', 'MaxCCList__Strategy_{}.txt'.format(data_name))\n",
    "        FINDER_f = open(FINDER_tf_fscores_file, \"r\")\n",
    "    except:\n",
    "        FINDER_tf_fscores_file = os.path.join(\".\", \"code\", \"results\", \"FINDER_{}_cost\".format(experiment_type), 'real', 'Data_{}'.format(weight_type),\\\n",
    "                                    'StepRatio_0.0100', 'MaxCCList_Strategy_{}.txt'.format(data_name))\n",
    "        FINDER_f = open(FINDER_tf_fscores_file, \"r\")\n",
    "\n",
    "    scores = []\n",
    "    for score in FINDER_f:\n",
    "        scores.append(float(score))\n",
    "    scores = scores[::k]\n",
    "    exp_dict[\"torch_{}_scores_scorefile\".format(weight_type)] = scores"
   ]
  },
  {
   "cell_type": "code",
   "execution_count": 81,
   "id": "a74d1bf8-e977-40c0-a2b5-9335b6616373",
   "metadata": {},
   "outputs": [
    {
     "name": "stdout",
     "output_type": "stream",
     "text": [
      "41\n",
      "- - - - - - - - - - - - - - - - - - - - - - - - - - - - - - - - - - - - \t-Finished calculations\n",
      "\t-Finished export\n"
     ]
    }
   ],
   "source": [
    "# NO Cost, Old Tf, \n",
    "network_file_name = \"{}\".format(data_name)\n",
    "print(k)\n",
    "FINDER_tf_file_path = os.path.join(\".\", \"code\", \"results\", \"old_FINDER_{}_tf\".format(experiment_type), 'real','StepRatio_0.0100',\n",
    "                                   '{}.txt'.format(network_file_name))\n",
    "no_cost_network_file_path = \"./data/real/{}.txt\".format(network_file_name)\n",
    "\n",
    "G = nx.read_edgelist(no_cost_network_file_path, nodetype=int)\n",
    "\n",
    "FINDER_no_cost_scores = calc_score_from_nodes_file(G, FINDER_tf_file_path, FINDER_tf_export_path, k=k, write=True, start_idx=0, read_file_inverse=read_file_inverse)\n",
    "\n",
    "network_file_name = \"{}\".format(data_name)\n",
    "\n",
    "FINDER_tf_fscores_file = os.path.join(\".\", \"code\", \"results\", \"old_FINDER_{}_tf\".format(experiment_type), 'real', \\\n",
    "                            'StepRatio_0.0100', 'MaxCCList_Strategy_{}.txt'.format(data_name))\n",
    "\n",
    "FINDER_f = open(FINDER_tf_fscores_file, \"r\")\n",
    "scores = []\n",
    "for score in FINDER_f:\n",
    "    scores.append(float(score))\n",
    "tf_no_cost_final_scores = scores[::k]\n",
    "\n",
    "exp_dict[\"tf_no_cost_scores_nodefile\"] = FINDER_no_cost_scores\n",
    "exp_dict[\"tf_no_cost_scores_scorefile\"] = tf_no_cost_final_scores"
   ]
  },
  {
   "cell_type": "code",
   "execution_count": 82,
   "id": "d932e56b-8ed0-44ef-988b-01aea96333bd",
   "metadata": {},
   "outputs": [
    {
     "name": "stdout",
     "output_type": "stream",
     "text": [
      "- - - - - - - - - - - - - - - - - - - - - - - - - - - - - - - - - - - - - - - - - - - - - - - - - - - - - - - - - - - - - - - - - - - - - - - - - - - - - - - - - - - - - - - - - - - - - - - - - - - - - - \t-Finished calculations\n",
      "\t-Finished export\n",
      "- - - - - - - - - - - - - - - - - - - - - - - - - - - - - - - - - - - - - - - - - - - - - - - - - - - - - - - - - - - - - - - - - - - - - - - - - - - - - - - - - - - - - - - - - - - - - - - - - - - - - - \t-Finished calculations\n",
      "\t-Finished export\n",
      "- - - - - - - - - - - - - - - - - - - - - - - - - - - - - - - - - - - - - - - - - - - - - - - - - - - - - - - - - - - - - - - - - - - - - - - - - - - - - - - - - - - - - - - - - - - - - - - - - - - - - - \t-Finished calculations\n",
      "\t-Finished export\n",
      "- - - - - - - - - - - - - - - - - - - - - - - - - - - - - - - - - - - - - - - - - - - - - - - - - - - - - - - - - - - - - - - - - - - - - - - - - - - - - - - - - - - - - - - - - - - - - - - - - - - - - - \t-Finished calculations\n",
      "\t-Finished export\n"
     ]
    }
   ],
   "source": [
    "for weight_type in tf_costs:\n",
    "    network_file_name = \"{}_{}\".format(data_name, weight_type)\n",
    "\n",
    "    torch_FINDER_nodefile_degree_scores = None\n",
    "    FINDER_torch_file_path = os.path.join(\".\", \"code\", \"results\", \"old_FINDER_{}_cost_tf\".format(experiment_type), 'real', 'Data_{}'.format(weight_type),\\\n",
    "                                'StepRatio_0.0100', '{}.txt'.format(network_file_name))\n",
    "\n",
    "    G = nx.read_gml(network_file_path, destringizer=int)\n",
    "\n",
    "    curr_sccores = calc_score_from_nodes_file(G, FINDER_torch_file_path, FINDER_torch_export_path, k=k, write=True, start_idx=0, read_file_inverse=read_file_inverse)\n",
    "    exp_dict[\"tf_{}_scores_nodefile\".format(weight_type)] = curr_sccores"
   ]
  },
  {
   "cell_type": "code",
   "execution_count": 83,
   "id": "71246016-2c36-4ef8-9193-04e614bf435a",
   "metadata": {},
   "outputs": [],
   "source": [
    "# tf from strategy files\n",
    "for weight_type in tf_costs:\n",
    "\n",
    "    network_file_name = \"{}_{}\".format(data_name, weight_type)\n",
    "\n",
    "    try:\n",
    "        FINDER_tf_fscores_file = os.path.join(\".\", \"code\", \"results\", \"old_FINDER_{}_cost_tf\".format(experiment_type), 'real', 'Data_{}'.format(weight_type),\\\n",
    "                                    'StepRatio_0.0100', 'MaxCCList__Strategy_{}.txt'.format(data_name))\n",
    "        FINDER_f = open(FINDER_tf_fscores_file, \"r\")\n",
    "    except:\n",
    "        FINDER_tf_fscores_file = os.path.join(\".\", \"code\", \"results\", \"old_FINDER_{}_cost_tf\".format(experiment_type), 'real', 'Data_{}'.format(weight_type),\\\n",
    "                                    'StepRatio_0.0100', 'MaxCCList_Strategy_{}.txt'.format(data_name))\n",
    "        FINDER_f = open(FINDER_tf_fscores_file, \"r\")\n",
    "\n",
    "    scores = []\n",
    "    for score in FINDER_f:\n",
    "        scores.append(float(score))\n",
    "    scores = scores[::k]\n",
    "    exp_dict[\"tf_{}_scores_scorefile\".format(weight_type)] = scores"
   ]
  },
  {
   "cell_type": "code",
   "execution_count": 84,
   "id": "b6c9c5b8-9938-4011-9c92-2a0915d7a390",
   "metadata": {},
   "outputs": [
    {
     "data": {
      "text/plain": [
       "'\\nweight_type = \"random\"\\nnetwork_file_name = \"{}_{}\".format(data_name, weight_type)\\n\\nFINDER_tf_fscores_file = os.path.join(\".\", \"code\", \"results\", \"old_FINDER_{}_cost_tf\".format(experiment_type), \\'real\\', \\'Data_{}\\'.format(weight_type),                            \\'StepRatio_0.0100\\', \\'MaxCCList_Strategy_{}.txt\\'.format(data_name))\\n\\nFINDER_f = open(FINDER_tf_fscores_file, \"r\")\\ntf_degree_scores = []\\nfor score in FINDER_f:\\n    tf_degree_scores.append(float(score))\\ntf_random_final_scores = tf_degree_scores[::k]\\n#print(tf_random_final_scores)\\n'"
      ]
     },
     "execution_count": 84,
     "metadata": {},
     "output_type": "execute_result"
    }
   ],
   "source": [
    "\"\"\"\n",
    "weight_type = \"random\"\n",
    "network_file_name = \"{}_{}\".format(data_name, weight_type)\n",
    "\n",
    "FINDER_tf_fscores_file = os.path.join(\".\", \"code\", \"results\", \"old_FINDER_{}_cost_tf\".format(experiment_type), 'real', 'Data_{}'.format(weight_type),\\\n",
    "                            'StepRatio_0.0100', 'MaxCCList_Strategy_{}.txt'.format(data_name))\n",
    "\n",
    "FINDER_f = open(FINDER_tf_fscores_file, \"r\")\n",
    "tf_degree_scores = []\n",
    "for score in FINDER_f:\n",
    "    tf_degree_scores.append(float(score))\n",
    "tf_random_final_scores = tf_degree_scores[::k]\n",
    "#print(tf_random_final_scores)\n",
    "\"\"\""
   ]
  },
  {
   "cell_type": "code",
   "execution_count": 85,
   "id": "24c6aa29-c5a9-4d6c-9ac8-c118f002d48c",
   "metadata": {},
   "outputs": [
    {
     "data": {
      "text/plain": [
       "41"
      ]
     },
     "execution_count": 85,
     "metadata": {},
     "output_type": "execute_result"
    }
   ],
   "source": [
    "k"
   ]
  },
  {
   "cell_type": "code",
   "execution_count": 88,
   "id": "39d92010-59c7-460b-933f-bb5b4a1b2ec2",
   "metadata": {},
   "outputs": [],
   "source": [
    "plt_list = ['HDA_scores', \"torch_001_scores_scorefile\", \"torch_001_scores_nodefile\",\n",
    "            \"tf_001_scores_scorefile\", \"tf_001_scores_nodefile\", 'tf_no_cost_scores_nodefile']"
   ]
  },
  {
   "cell_type": "code",
   "execution_count": 25,
   "id": "7af832ca-57b7-4e6e-8aaa-f577dc80968d",
   "metadata": {},
   "outputs": [
    {
     "data": {
      "text/plain": [
       "<matplotlib.legend.Legend at 0x2cbe5b97310>"
      ]
     },
     "execution_count": 25,
     "metadata": {},
     "output_type": "execute_result"
    },
    {
     "data": {
      "image/png": "[encoded data removed]",
      "text/plain": [
       "<Figure size 1152x576 with 1 Axes>"
      ]
     },
     "metadata": {
      "needs_background": "light"
     },
     "output_type": "display_data"
    }
   ],
   "source": [
    "# Reading FINDER files inverse\n",
    "\n",
    "from matplotlib import pyplot as plt\n",
    "\n",
    "plt.figure(figsize=(16,8))\n",
    "\n",
    "#plt.plot(CN_scores, label='CN')\n",
    "for key in plt_list:\n",
    "    plt.plot(exp_dict[key], label=key)\n",
    "    \n",
    "#plt.plot(CI_scores, label='CI')\n",
    "plt.legend()\n",
    "plt.xlabel(\"# iterations of {} node removals\".format(k))\n",
    "plt.ylabel(\"Graph connectivity {}\".format(experiment_type))"
   ]
  },
  {
   "cell_type": "code",
   "execution_count": 1,
   "id": "16b367dc-bf71-4528-9434-31cdcf369cb0",
   "metadata": {},
   "outputs": [],
   "source": [
    "import sys\n",
    "import networkx as nx\n",
    "import numpy as np\n",
    "import random\n",
    "import os\n",
    "import os\n",
    "from shutil import copyfile\n",
    "from tqdm import tqdm\n",
    "\n",
    "data_name = \"HI-II-14\" #HI-II-14, Digg\n",
    "experiment_type = \"ND\"\n",
    "step_ratio = 0.01\n",
    "read_file_inverse=False\n",
    "torch_costs = ['degree', 'zero', '001']\n",
    "tf_costs = ['random', 'degree', 'zero', '001']\n",
    "sys.path.insert(0, \"./code/old_FINDER_ND_cost_tf/\")\n"
   ]
  },
  {
   "cell_type": "code",
   "execution_count": 2,
   "id": "532f5172-c24b-4cd6-be03-e94503b9520e",
   "metadata": {},
   "outputs": [],
   "source": [
    "import utils\n",
    "import graph\n"
   ]
  },
  {
   "cell_type": "code",
   "execution_count": 3,
   "id": "2adfe072-7a8b-4ffc-8f9f-50044abc53e1",
   "metadata": {},
   "outputs": [],
   "source": [
    "my_utils = utils.py_Utils()"
   ]
  },
  {
   "cell_type": "code",
   "execution_count": 4,
   "id": "2af172bb-74a9-4fb2-a0b4-abbb70077cef",
   "metadata": {},
   "outputs": [],
   "source": [
    "def GenNetwork(g):    #networkx2four\n",
    "        nodes = g.nodes()\n",
    "        edges = g.edges()\n",
    "        weights = []\n",
    "        for i in range(len(nodes)):\n",
    "            weights.append(g.nodes[i]['weight'])\n",
    "        if len(edges) > 0:\n",
    "            a, b = zip(*edges)\n",
    "            A = np.array(a)\n",
    "            B = np.array(b)\n",
    "            W = np.array(weights)\n",
    "        else:\n",
    "            A = np.array([0])\n",
    "            B = np.array([0])\n",
    "            W = np.array([0])\n",
    "        return graph.py_Graph(len(nodes), len(edges), A, B, W)"
   ]
  },
  {
   "cell_type": "code",
   "execution_count": 5,
   "id": "1addbec2-66b6-4a2f-a1fc-e8f058f677f5",
   "metadata": {},
   "outputs": [],
   "source": [
    "def HXA(g, method):\n",
    "        # 'HDA', 'HBA', 'HPRA', 'HCA'\n",
    "        sol = []\n",
    "        G = g.copy()\n",
    "        while (nx.number_of_edges(G)>0):\n",
    "            if method == 'HDA':\n",
    "                dc = nx.degree_centrality(G)\n",
    "            elif method == 'HBA':\n",
    "                dc = nx.betweenness_centrality(G)\n",
    "            elif method == 'HCA':\n",
    "                dc = nx.closeness_centrality(G)\n",
    "            elif method == 'HPRA':\n",
    "                dc = nx.pagerank(G)\n",
    "            keys = list(dc.keys())\n",
    "            values = list(dc.values())\n",
    "            maxTag = np.argmax(values)\n",
    "            node = keys[maxTag]\n",
    "            sol.append(node)\n",
    "            G.remove_node(node)\n",
    "        solution = sol + list(set(g.nodes())^set(sol))\n",
    "        solutions = [int(i) for i in solution]\n",
    "        Robustness = my_utils.getRobustness(GenNetwork(g), solutions)\n",
    "        RobustnessList = my_utils.getRobustnessList(GenNetwork(g), solutions)\n",
    "        maxcclist = my_utils.getRobustnessList(GenNetwork(g), solutions, True)\n",
    "        return Robustness, RobustnessList, maxcclist"
   ]
  },
  {
   "cell_type": "code",
   "execution_count": 6,
   "id": "4372a9bb-4b46-4870-8fca-4838e743fdcf",
   "metadata": {},
   "outputs": [
    {
     "name": "stdout",
     "output_type": "stream",
     "text": [
      "Robustness from HDA:\n"
     ]
    }
   ],
   "source": [
    "network_file_name = \"{}_degree\".format(data_name)\n",
    "network_file_path = \"./data/real/cost/{}.gml\".format(network_file_name)\n",
    "g = nx.read_gml(network_file_path, destringizer=int)\n",
    "print(\"Robustness from HDA:\")\n",
    "HDA_robustness, HDA_robustness_l, HDA_maxcclist = HXA(g, \"HDA\")"
   ]
  },
  {
   "cell_type": "code",
   "execution_count": 7,
   "id": "daf1ea13",
   "metadata": {},
   "outputs": [],
   "source": [
    "#HDA_maxcclist"
   ]
  },
  {
   "cell_type": "code",
   "execution_count": 8,
   "id": "90f34e3e-19c1-422e-9b06-cac86dd8f531",
   "metadata": {},
   "outputs": [
    {
     "name": "stdout",
     "output_type": "stream",
     "text": [
      "Robustness from torch ND cost:\n"
     ]
    }
   ],
   "source": [
    "network_file_name = \"{}_degree\".format(data_name)\n",
    "network_file_path = \"./data/real/cost/{}.gml\".format(network_file_name)\n",
    "g = nx.read_gml(network_file_path, destringizer=int)\n",
    "\n",
    "weight_type = 'degree'\n",
    "network_file_name = \"{}_{}\".format(data_name, weight_type)\n",
    "\n",
    "FINDER_torch_file_path = os.path.join(\".\", \"code\", \"results\", \"FINDER_{}_cost\".format(experiment_type), 'real', 'Data_{}'.format(weight_type),\\\n",
    "                            'StepRatio_0.0100', '{}.txt'.format(network_file_name))\n",
    "\n",
    "f = open(FINDER_torch_file_path,'r')\n",
    "node_removals = []\n",
    "for idx, line in enumerate(f.readlines()):\n",
    "    node_removals.append(int(line))\n",
    "\n",
    "print(\"Robustness from torch ND cost:\")\n",
    "\n",
    "torch_ND_robustness = my_utils.getRobustness(GenNetwork(g), node_removals)\n",
    "torch_ND_robustness_l = my_utils.getRobustnessList(GenNetwork(g), node_removals)\n",
    "torch_ND_maxcclist = my_utils.getRobustnessList(GenNetwork(g), node_removals, True)\n"
   ]
  },
  {
   "cell_type": "code",
   "execution_count": 9,
   "id": "d515ec7c",
   "metadata": {},
   "outputs": [
    {
     "data": {
      "text/plain": [
       "1.0000000000000044"
      ]
     },
     "execution_count": 9,
     "metadata": {},
     "output_type": "execute_result"
    }
   ],
   "source": [
    "HDA_robustness_l[-1]"
   ]
  },
  {
   "cell_type": "code",
   "execution_count": 10,
   "id": "6e7ede41-7e52-47d8-8df4-93304200ad28",
   "metadata": {},
   "outputs": [
    {
     "name": "stdout",
     "output_type": "stream",
     "text": [
      "Robustness from TF ND cost:\n"
     ]
    }
   ],
   "source": [
    "network_file_name = \"{}_degree\".format(data_name)\n",
    "network_file_path = \"./data/real/cost/{}.gml\".format(network_file_name)\n",
    "g = nx.read_gml(network_file_path, destringizer=int)\n",
    "\n",
    "weight_type = 'degree'\n",
    "network_file_name = \"{}_{}\".format(data_name, weight_type)\n",
    "\n",
    "FINDER_tf_file_path = os.path.join(\".\", \"code\", \"results\", \"old_FINDER_{}_cost_tf\".format(experiment_type), 'real', 'Data_{}'.format(weight_type),\\\n",
    "                            'StepRatio_0.0100', '{}.txt'.format(network_file_name))\n",
    "\n",
    "f = open(FINDER_tf_file_path,'r')\n",
    "node_removals = []\n",
    "for idx, line in enumerate(f.readlines()):\n",
    "    node_removals.append(int(line))\n",
    "\n",
    "print(\"Robustness from TF ND cost:\")\n",
    "\n",
    "tf_ND_robustness = my_utils.getRobustness(GenNetwork(g), node_removals)\n",
    "tf_ND_robustness_l = my_utils.getRobustnessList(GenNetwork(g), node_removals)\n",
    "tf_ND_maxcclist = my_utils.getRobustnessList(GenNetwork(g), node_removals, True)\n"
   ]
  },
  {
   "cell_type": "code",
   "execution_count": 11,
   "id": "13766570-3802-4959-88a4-23784d037d42",
   "metadata": {},
   "outputs": [],
   "source": [
    "robustness_dict = {\"HDA_robustness_l\": [HDA_robustness_l, HDA_maxcclist],\n",
    "                \"torch_ND_robustness_l\": [torch_ND_robustness_l,torch_ND_maxcclist],\n",
    "                \"tf_ND_robustness_l\": [tf_ND_robustness_l, tf_ND_maxcclist]\n",
    "                }\n",
    "\n",
    "# Reading FINDER files inverse\n",
    "\n",
    "from matplotlib import pyplot as plt\n",
    "\n",
    "plt.figure(figsize=(16,8))\n",
    "\n",
    "#plt.plot(CN_scores, label='CN')\n",
    "for key in robustness_dict.keys():\n",
    "    plt.plot(robustness_dict[key][0], robustness_dict[key][1], label=key)\n",
    "\n",
    "    #plt.plot(robustness_dict[key], label=key)\n",
    "    \n",
    "#plt.plot(CI_scores, label='CI')\n",
    "plt.legend()\n",
    "#plt.xlabel(\"# iterations of {} node removals\".format(k))\n",
    "#plt.ylabel(\"Graph connectivity {}\".format(experiment_type))"
   ]
  },
  {
   "cell_type": "code",
   "execution_count": null,
   "id": "ffeac835",
   "metadata": {},
   "outputs": [],
   "source": []
  },
  {
   "cell_type": "markdown",
   "id": "ddbf9753",
   "metadata": {},
   "source": [
    "## RUN cells below for costed analysis:"
   ]
  },
  {
   "cell_type": "code",
   "execution_count": null,
   "id": "9b36e3f7",
   "metadata": {},
   "outputs": [],
   "source": [
    "import networkx as nx\n",
    "import numpy as np\n",
    "import random\n",
    "import os\n",
    "import os\n",
    "from shutil import copyfile\n",
    "from tqdm import tqdm\n",
    "\n",
    "data_name = \"HI-II-14\" #HI-II-14, Digg\n",
    "experiment_type = \"ND\"\n",
    "step_ratio = 0.01\n",
    "read_file_inverse=False\n",
    "torch_costs = ['degree', 'zero', '001']\n",
    "tf_costs = ['random', 'degree', 'zero', '001']"
   ]
  },
  {
   "cell_type": "code",
   "execution_count": 82,
   "id": "9893f195",
   "metadata": {},
   "outputs": [
    {
     "name": "stdout",
     "output_type": "stream",
     "text": [
      "Number of nodes in the graph: 4165\n",
      "Number of edges in the graph: 13087\n",
      "4165\n"
     ]
    }
   ],
   "source": [
    "network_file_name = \"{}_degree\".format(data_name)\n",
    "network_file_path = \"./data/real/cost/{}.gml\".format(network_file_name)\n",
    "G = nx.read_gml(network_file_path, destringizer=int)\n",
    "print(\"Number of nodes in the graph:\", G.number_of_nodes())\n",
    "print(\"Number of edges in the graph:\", G.number_of_edges())\n",
    "\n",
    "_g_num_nodes = G.number_of_nodes()\n",
    "_CN_denom = (((_g_num_nodes * (_g_num_nodes - 1))) /2)\n",
    "\n",
    "print(_g_num_nodes)\n",
    "def calc_graph_connectivity(G, experiment_type=experiment_type):\n",
    "    if(G.number_of_nodes() in [0, 1]): return 0\n",
    "    if(experiment_type==\"CN\"):\n",
    "        pairwise_connectivity = 0\n",
    "        for i in list(nx.connected_components(G)): pairwise_connectivity += (len(i) * (len(i) -1)) / 2\n",
    "        pc = pairwise_connectivity / _CN_denom\n",
    "        return pc\n",
    "    else:\n",
    "        maxCC = len(max(nx.connected_components(G), key=len))\n",
    "        #print(maxCC , _g_num_nodes)\n",
    "        return maxCC / _g_num_nodes\n"
   ]
  },
  {
   "cell_type": "code",
   "execution_count": 83,
   "id": "a82d955a",
   "metadata": {},
   "outputs": [
    {
     "name": "stdout",
     "output_type": "stream",
     "text": [
      "91.51748251749102\n"
     ]
    }
   ],
   "source": [
    "SUM_COST = 0\n",
    "for i in range(len(G.nodes())):\n",
    "    SUM_COST += G.nodes[i]['weight']\n",
    "\n",
    "print(SUM_COST)"
   ]
  },
  {
   "cell_type": "code",
   "execution_count": 84,
   "id": "c58720ec",
   "metadata": {},
   "outputs": [],
   "source": [
    "# high degree adaptive\n",
    "def cost_HDA(G, k=k, write=True):\n",
    "    pairwise_conn_list = []\n",
    "    cost_list = [0]\n",
    "    pairwise_conn_list.append(calc_graph_connectivity(G))\n",
    "\n",
    "    print(\"HDA for k: {}\".format(k))\n",
    "\n",
    "    while(True):\n",
    "        print(\"- \", end=\"\")\n",
    "        degrees = dict(G.degree)\n",
    "        degrees_sorted = list(sorted(degrees.items(), key=lambda item: item[1], reverse=True))\n",
    "        isTerminal = k > len(degrees_sorted)\n",
    "\n",
    "        num_removals = int(min(k, len(degrees_sorted)))\n",
    "        node_degree_pairs = degrees_sorted[0:num_removals]\n",
    "        node_removals = [i[0] for i in node_degree_pairs]\n",
    "\n",
    "        curr_cost = cost_list[-1]\n",
    "        for n in node_removals:\n",
    "            curr_cost += G.nodes[n]['weight']\n",
    "        \n",
    "        cost_list.append(curr_cost)\n",
    "\n",
    "        G.remove_nodes_from(node_removals)\n",
    "\n",
    "        pairwise_conn_list.append(calc_graph_connectivity(G))\n",
    "\n",
    "        if(isTerminal): break\n",
    "\n",
    "    print(\"\\t-Finished calculations\")\n",
    "\n",
    "    if(write):\n",
    "        result_file = os.path.join(HDA_export_path, \"{}_scores_k_{}.txt\".format(data_name, k))\n",
    "        with open(result_file, 'w') as f_out:\n",
    "                for j in range(len(pairwise_conn_list)):\n",
    "                    f_out.write('%.8f\\n' % pairwise_conn_list[j])\n",
    "        print(\"\\t-Finished export\")\n",
    "\n",
    "    return pairwise_conn_list, cost_list"
   ]
  },
  {
   "cell_type": "code",
   "execution_count": 85,
   "id": "0d92867e",
   "metadata": {},
   "outputs": [],
   "source": [
    "def cost_calc_score_from_nodes_file(G, node_files, export_path, k=k, write=True, start_idx=1, read_file_inverse=False):\n",
    "    pairwise_conn_list = []\n",
    "    cost_list = [0]\n",
    "    pairwise_conn_list.append(calc_graph_connectivity(G))\n",
    "\n",
    "    f = open(node_files,'r')\n",
    "    node_removals = []\n",
    "    for idx, line in enumerate(f.readlines()):\n",
    "        nodes_line = line.split(\",\")[start_idx:]\n",
    "        node_removals = node_removals + nodes_line\n",
    "\n",
    "    \n",
    "    node_removals = [int(node_removals[i]) for i in range(len(node_removals))]\n",
    "    if(read_file_inverse):\n",
    "        node_removals = node_removals[::-1]\n",
    "    while(True):\n",
    "        print(\"- \", end=\"\")\n",
    "\n",
    "        isTerminal = k > len(node_removals)\n",
    "\n",
    "        num_removals = int(min(k, len(node_removals)))\n",
    "        curr_node_removals = node_removals[0:num_removals]\n",
    "        #print(curr_node_removals)\n",
    "        #print(\"=======\")\n",
    "\n",
    "        curr_cost = cost_list[-1]\n",
    "        for n in curr_node_removals:\n",
    "            curr_cost += G.nodes[n]['weight']\n",
    "        \n",
    "        cost_list.append(curr_cost)\n",
    "\n",
    "        G.remove_nodes_from(curr_node_removals)\n",
    "\n",
    "        pairwise_conn_list.append(calc_graph_connectivity(G))\n",
    "\n",
    "        node_removals = node_removals[num_removals:]\n",
    "        if(isTerminal): break\n",
    "\n",
    "    print(\"\\t-Finished calculations\")\n",
    "    if(write):\n",
    "        result_file = os.path.join(export_path, \"scores_k_{}.txt\".format(k))\n",
    "        with open(result_file, 'w') as f_out:\n",
    "                for j in range(len(pairwise_conn_list)):\n",
    "                    f_out.write('%.8f\\n' % pairwise_conn_list[j])\n",
    "\n",
    "        print(\"\\t-Finished export\")\n",
    "\n",
    "\n",
    "    return pairwise_conn_list, cost_list"
   ]
  },
  {
   "cell_type": "code",
   "execution_count": 86,
   "id": "fc1c5048",
   "metadata": {},
   "outputs": [
    {
     "name": "stdout",
     "output_type": "stream",
     "text": [
      "HDA for k: 41\n",
      "- - - - - - - - - - - - - - - - - - - - - - - - - - - - - - - - - - - - - - - - - - - - - - - - - - - - - - - - - - - - - - - - - - - - - - - - - - - - - - - - - - - - - - - - - - - - - - - - - - - - - - \t-Finished calculations\n"
     ]
    }
   ],
   "source": [
    "G = nx.read_gml(network_file_path, destringizer=int)\n",
    "HDA_scores, HDA_costs = cost_HDA(G, k=k, write=False)\n",
    "\n",
    "for i in range(len(HDA_costs)): HDA_costs[i] =  HDA_costs[i]/SUM_COST"
   ]
  },
  {
   "cell_type": "code",
   "execution_count": 87,
   "id": "15ae919a",
   "metadata": {},
   "outputs": [],
   "source": [
    "cost_exp_dict = {\n",
    "                \"HDA_robustness_l\": [HDA_costs,HDA_scores],\n",
    "                \n",
    "                }"
   ]
  },
  {
   "cell_type": "code",
   "execution_count": 88,
   "id": "1df05cba",
   "metadata": {},
   "outputs": [
    {
     "name": "stdout",
     "output_type": "stream",
     "text": [
      "- - - - - - - - - - - - - - - - - - - - - - - - - - - - - - - - - - - - - - - - - - - - - - - - - - - - - - - - - - - - - - - - - - - - - - - - - - \t-Finished calculations\n"
     ]
    }
   ],
   "source": [
    "for weight_type in ['degree']:\n",
    "    network_file_name = \"{}_{}\".format(data_name, weight_type)\n",
    "\n",
    "    torch_FINDER_nodefile_degree_scores = None\n",
    "    FINDER_torch_file_path = os.path.join(\".\", \"code\", \"results\", \"FINDER_{}_cost\".format(experiment_type), 'real', 'Data_{}'.format(weight_type),\\\n",
    "                                'StepRatio_0.0100', '{}.txt'.format(network_file_name))\n",
    "\n",
    "    G = nx.read_gml(network_file_path, destringizer=int)\n",
    "\n",
    "    curr_sccores, curr_costs = cost_calc_score_from_nodes_file(G, FINDER_torch_file_path, None, k=k, write=False, start_idx=0, read_file_inverse=read_file_inverse)\n",
    "    for i in range(len(curr_costs)): curr_costs[i] =  curr_costs[i]/SUM_COST\n",
    "    cost_exp_dict[\"torch_{}_scores_nodefile\".format(weight_type)] = [curr_costs, curr_sccores]\n",
    "\n",
    "    "
   ]
  },
  {
   "cell_type": "code",
   "execution_count": 89,
   "id": "9250b315",
   "metadata": {},
   "outputs": [
    {
     "name": "stdout",
     "output_type": "stream",
     "text": [
      "- - - - - - - - - - - - - - - - - - - - - - - - - - - - - - - - - - - - - - - - - - - - - - - - - - - - - - - - - - - - - - - - - - - - - - - - - - - - - - - - - - - - - - - - - - - - - - - - - - - - - - \t-Finished calculations\n"
     ]
    }
   ],
   "source": [
    "for weight_type in ['degree']:\n",
    "    network_file_name = \"{}_{}\".format(data_name, weight_type)\n",
    "\n",
    "    torch_FINDER_nodefile_degree_scores = None\n",
    "    FINDER_torch_file_path = os.path.join(\".\", \"code\", \"results\", \"old_FINDER_{}_cost_tf\".format(experiment_type), 'real', 'Data_{}'.format(weight_type),\\\n",
    "                                'StepRatio_0.0100', '{}.txt'.format(network_file_name))\n",
    "\n",
    "    G = nx.read_gml(network_file_path, destringizer=int)\n",
    "\n",
    "    curr_sccores, curr_costs = cost_calc_score_from_nodes_file(G, FINDER_torch_file_path, None, k=k, write=False, start_idx=0, read_file_inverse=read_file_inverse)\n",
    "    for i in range(len(curr_costs)): curr_costs[i] =  curr_costs[i]/SUM_COST\n",
    "    cost_exp_dict[\"tf_{}_scores_nodefile\".format(weight_type)] = [curr_costs, curr_sccores]\n"
   ]
  },
  {
   "cell_type": "code",
   "execution_count": 90,
   "id": "5f7d7848",
   "metadata": {},
   "outputs": [
    {
     "data": {
      "text/plain": [
       "Text(0, 0.5, 'Graph connectivity ND')"
      ]
     },
     "execution_count": 90,
     "metadata": {},
     "output_type": "execute_result"
    },
    {
     "data": {
      "image/png": "[encoded data removed]",
      "text/plain": [
       "<Figure size 1152x576 with 1 Axes>"
      ]
     },
     "metadata": {
      "needs_background": "light"
     },
     "output_type": "display_data"
    }
   ],
   "source": [
    "\n",
    "from matplotlib import pyplot as plt\n",
    "\n",
    "plt.figure(figsize=(16,8))\n",
    "\n",
    "for key in cost_exp_dict.keys():\n",
    "    plt.plot(cost_exp_dict[key][0], cost_exp_dict[key][1], label=key)\n",
    "\n",
    "plt.legend()\n",
    "plt.xlabel(\"fraction of cost\")\n",
    "plt.ylabel(\"Graph connectivity {}\".format(experiment_type))"
   ]
  },
  {
   "cell_type": "code",
   "execution_count": null,
   "id": "af54fe14",
   "metadata": {},
   "outputs": [],
   "source": []
  }
 ],
 "metadata": {
  "kernelspec": {
   "display_name": "Python 3 (ipykernel)",
   "language": "python",
   "name": "python3"
  },
  "language_info": {
   "codemirror_mode": {
    "name": "ipython",
    "version": 3
   },
   "file_extension": ".py",
   "mimetype": "text/x-python",
   "name": "python",
   "nbconvert_exporter": "python",
   "pygments_lexer": "ipython3",
   "version": "3.9.7"
  }
 },
 "nbformat": 4,
 "nbformat_minor": 5
}
