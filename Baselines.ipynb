{
 "cells": [
  {
   "cell_type": "code",
   "execution_count": 1,
   "id": "4d81583d-adf8-450d-9fd9-195d7e0826ab",
   "metadata": {},
   "outputs": [],
   "source": [
    "import networkx as nx\n",
    "import numpy as np\n",
    "import random\n",
    "import os\n",
    "import os\n",
    "from shutil import copyfile\n",
    "from tqdm import tqdm\n",
    "\n"
   ]
  },
  {
   "cell_type": "code",
   "execution_count": 26,
   "id": "38807a64-9c23-4555-9f65-db46b8968f94",
   "metadata": {},
   "outputs": [],
   "source": [
    "data_name = \"HI-II-14\"\n",
    "experiment_type = \"ND\"\n",
    "step_ratio = 0.01\n",
    "read_file_inverse=False"
   ]
  },
  {
   "cell_type": "code",
   "execution_count": 27,
   "id": "f3ff0c32-310a-44a2-b185-0cd24439066d",
   "metadata": {},
   "outputs": [],
   "source": [
    "def make_dir(path):\n",
    "    try: os.makedirs(path)\n",
    "    except: return -1"
   ]
  },
  {
   "cell_type": "code",
   "execution_count": 28,
   "id": "9a2dccf4-fe71-4e8d-9c2c-71d7efa75318",
   "metadata": {},
   "outputs": [
    {
     "data": {
      "text/plain": [
       "-1"
      ]
     },
     "execution_count": 28,
     "metadata": {},
     "output_type": "execute_result"
    }
   ],
   "source": [
    "CNDP_export_path = os.path.join(\".\", \"Baseline_results\")\n",
    "HDA_export_path = os.path.join(CNDP_export_path, \"{}_HDA\".format(experiment_type))\n",
    "HPRA_export_path = os.path.join(CNDP_export_path, \"{}_HPRA\".format(experiment_type))\n",
    "CI_export_path = os.path.join(CNDP_export_path, \"{}_CI\".format(experiment_type))\n",
    "FINDER_torch_export_path = os.path.join(CNDP_export_path, \"{}_FINDER_torch\".format(experiment_type))\n",
    "FINDER_tf_export_path = os.path.join(CNDP_export_path, \"{}_FINDER_tf\".format(experiment_type))\n",
    "\n",
    "#CI_export_path = os.path.join(CNDP_export_path, \"CI\")\n",
    "\n",
    "#make_dir(CNDP_export_path)\n",
    "make_dir(HDA_export_path)\n",
    "make_dir(HPRA_export_path)\n",
    "make_dir(CI_export_path)\n",
    "make_dir(FINDER_torch_export_path)\n",
    "make_dir(FINDER_tf_export_path)"
   ]
  },
  {
   "cell_type": "code",
   "execution_count": 29,
   "id": "30eb8173-be0b-4bc1-ae37-2706764e2d41",
   "metadata": {},
   "outputs": [],
   "source": [
    "# turns node labels into integers from 1 to |V|\n",
    "# turn this into graph-tool?\n",
    "def modify_edgelist(data_dir, save_dir, data_name=['day20']):\n",
    "    for i in range(len(data_name)):\n",
    "        data = os.path.join(data_dir , data_name[i] + '.edgelist')\n",
    "        g = nx.read_edgelist(data)\n",
    "\n",
    "        nodes = g.nodes()\n",
    "        nodes_l = list(nodes)\n",
    "        nodes_l_map = map(int, nodes_l)\n",
    "        nodes_l_int = list(nodes_l_map)\n",
    "        nodes_l_int.sort()\n",
    "\n",
    "        nodes_l_map = map(str, nodes_l_int)\n",
    "        nodes_l = list(nodes_l_map)\n",
    "\n",
    "        new_node_labels = {}\n",
    "        for j in range(len(nodes_l)):\n",
    "            new_node_labels[nodes_l[j]] = str(j)\n",
    "\n",
    "        new_g = nx.relabel_nodes(g, new_node_labels)\n",
    "\n",
    "        nx.write_edgelist(new_g, os.path.join(save_dir, \"{}_modified.edgelist\".format(data_name[i])))"
   ]
  },
  {
   "cell_type": "code",
   "execution_count": 30,
   "id": "05b1b557-18f9-4f18-80e6-cf4c2fb3661f",
   "metadata": {},
   "outputs": [],
   "source": [
    "#modify_edgelist(data_dir, save_dir, data_name=['day20'])"
   ]
  },
  {
   "cell_type": "code",
   "execution_count": 31,
   "id": "e6d52d31-2932-49e6-83f6-6aaef5523bc7",
   "metadata": {},
   "outputs": [
    {
     "name": "stdout",
     "output_type": "stream",
     "text": [
      "Number of nodes in the graph: 4165\n",
      "Number of edges in the graph: 13087\n",
      "Node removals per iteration:  41\n",
      "Total possible pairwise connectivity 8671530\n"
     ]
    }
   ],
   "source": [
    "network_file_name = \"{}_degree\".format(data_name)\n",
    "network_file_path = \"./data/real/cost/{}.gml\".format(network_file_name)\n",
    "G = nx.read_gml(network_file_path, destringizer=int)\n",
    "print(\"Number of nodes in the graph:\", G.number_of_nodes())\n",
    "print(\"Number of edges in the graph:\", G.number_of_edges())\n",
    "\n",
    "G_size = G.number_of_nodes()\n",
    "#total possible pairwise connectivity\n",
    "CN_denom = (((G_size * (G_size - 1))) /2)\n",
    "k = int(G_size * step_ratio)\n",
    "print(\"Node removals per iteration: \", k)\n",
    "print(\"Total possible pairwise connectivity\", int(CN_denom))\n",
    "\n"
   ]
  },
  {
   "cell_type": "code",
   "execution_count": null,
   "id": "e41def8c-b3d0-473f-baba-709006339c09",
   "metadata": {},
   "outputs": [],
   "source": []
  },
  {
   "cell_type": "code",
   "execution_count": 32,
   "id": "3591c2b5-c211-4d38-9b4c-524385acfa78",
   "metadata": {},
   "outputs": [],
   "source": [
    "network_comma_export_path = \"./data/real/{}_comma.txt\".format(network_file_name)\n",
    "nx.write_edgelist(G, network_comma_export_path, delimiter=\",\")"
   ]
  },
  {
   "cell_type": "code",
   "execution_count": 33,
   "id": "8e03275e-946f-4bce-a175-e9e3f4220125",
   "metadata": {},
   "outputs": [],
   "source": [
    "def calc_graph_connectivity(G, experiment_type=experiment_type):\n",
    "    _g_num_nodes = G.number_of_nodes()\n",
    "    if(_g_num_nodes in [0, 1]): return 0\n",
    "    pairwise_connectivity = 0\n",
    "    if(experiment_type==\"CN\"):\n",
    "        for i in list(nx.connected_components(G)): pairwise_connectivity += (len(i) * (len(i) -1)) / 2\n",
    "        pc = pairwise_connectivity / CN_denom\n",
    "        return pc\n",
    "    else:\n",
    "        maxCC = len(max(nx.connected_components(G), key=len))\n",
    "        return maxCC / G_size\n"
   ]
  },
  {
   "cell_type": "code",
   "execution_count": 34,
   "id": "1dd1eb16-9493-4ff4-8851-b57634485cd4",
   "metadata": {},
   "outputs": [],
   "source": [
    "# high degree adaptive\n",
    "def HDA(G, k=k, write=True):\n",
    "    pairwise_conn_list = []\n",
    "    pairwise_conn_list.append(calc_graph_connectivity(G))\n",
    "\n",
    "    print(\"HDA for k: {}\".format(k))\n",
    "\n",
    "    while(True):\n",
    "        print(\"- \", end=\"\")\n",
    "        degrees = dict(G.degree)\n",
    "        degrees_sorted = list(sorted(degrees.items(), key=lambda item: item[1], reverse=True))\n",
    "\n",
    "        isTerminal = k > len(degrees_sorted)\n",
    "\n",
    "        num_removals = int(min(k, len(degrees_sorted)))\n",
    "        node_degree_pairs = degrees_sorted[0:num_removals]\n",
    "        node_removals = [i[0] for i in node_degree_pairs]\n",
    "\n",
    "        G.remove_nodes_from(node_removals)\n",
    "\n",
    "        pairwise_conn_list.append(calc_graph_connectivity(G))\n",
    "\n",
    "        if(isTerminal): break\n",
    "\n",
    "    print(\"\\t-Finished calculations\")\n",
    "\n",
    "    if(write):\n",
    "        result_file = os.path.join(HDA_export_path, \"{}_scores_k_{}.txt\".format(data_name, k))\n",
    "        with open(result_file, 'w') as f_out:\n",
    "                for j in range(len(pairwise_conn_list)):\n",
    "                    f_out.write('%.8f\\n' % pairwise_conn_list[j])\n",
    "        print(\"\\t-Finished export\")\n",
    "\n",
    "    return pairwise_conn_list"
   ]
  },
  {
   "cell_type": "code",
   "execution_count": 35,
   "id": "760b9ee8-750f-46d5-bbc0-fb04be449303",
   "metadata": {},
   "outputs": [],
   "source": [
    "# high pageRank adaptive\n",
    "def HPRA(G, k=k, alpha=0.85, write=True):\n",
    "    k = int(k)\n",
    "    pairwise_conn_list = []\n",
    "    pairwise_conn_list.append(calc_graph_connectivity(G))\n",
    "\n",
    "    print(\"HPRA for k: {}, alpha: {}\".format(k, alpha))\n",
    "\n",
    "    while(True):\n",
    "        print(\"- \", end=\"\")\n",
    "        prs = nx.pagerank(G, alpha=alpha)\n",
    "        prs_sorted = list(sorted(prs.items(), key=lambda item: item[1], reverse=True))\n",
    "\n",
    "        isTerminal = k > len(prs_sorted)\n",
    "\n",
    "        num_removals = int(min(k, len(prs_sorted)))\n",
    "        node_pr_pairs = prs_sorted[0:num_removals]\n",
    "        node_removals = [i[0] for i in node_pr_pairs]\n",
    "\n",
    "        G.remove_nodes_from(node_removals)\n",
    "\n",
    "        pairwise_conn_list.append(calc_graph_connectivity(G))\n",
    "\n",
    "        if(isTerminal): break\n",
    "\n",
    "    print(\"\\t-Finished calculations\")\n",
    "    if(write):\n",
    "        result_file = os.path.join(HPRA_export_path, \"{}_scores_k_{}_alpha_{}.txt\".format(data_name, k, alpha))\n",
    "        with open(result_file, 'w') as f_out:\n",
    "                for j in range(len(pairwise_conn_list)):\n",
    "                    f_out.write('%.8f\\n' % pairwise_conn_list[j])\n",
    "\n",
    "        print(\"\\t-Finished export\")\n",
    "\n",
    "\n",
    "    return pairwise_conn_list"
   ]
  },
  {
   "cell_type": "code",
   "execution_count": 36,
   "id": "7366a9e8-826f-466a-b7db-ba97c40170c3",
   "metadata": {},
   "outputs": [],
   "source": [
    "def calc_score_from_nodes_file(G, node_files, export_path, k=k, write=True, start_idx=1, read_file_inverse=False):\n",
    "    pairwise_conn_list = []\n",
    "    pairwise_conn_list.append(calc_graph_connectivity(G))\n",
    "\n",
    "    f = open(node_files,'r')\n",
    "    node_removals = []\n",
    "    for idx, line in enumerate(f.readlines()):\n",
    "        nodes_line = line.split(\",\")[start_idx:]\n",
    "        node_removals = node_removals + nodes_line\n",
    "\n",
    "    \n",
    "    node_removals = [int(node_removals[i]) for i in range(len(node_removals))]\n",
    "    if(read_file_inverse):\n",
    "        node_removals = node_removals[::-1]\n",
    "    while(True):\n",
    "        print(\"- \", end=\"\")\n",
    "\n",
    "        isTerminal = k > len(node_removals)\n",
    "\n",
    "        num_removals = int(min(k, len(node_removals)))\n",
    "        curr_node_removals = node_removals[0:num_removals]\n",
    "        #print(curr_node_removals)\n",
    "        #print(\"=======\")\n",
    "        G.remove_nodes_from(curr_node_removals)\n",
    "\n",
    "        pairwise_conn_list.append(calc_graph_connectivity(G))\n",
    "\n",
    "        node_removals = node_removals[num_removals:]\n",
    "        if(isTerminal): break\n",
    "\n",
    "    print(\"\\t-Finished calculations\")\n",
    "    if(write):\n",
    "        result_file = os.path.join(export_path, \"scores_k_{}.txt\".format(k))\n",
    "        with open(result_file, 'w') as f_out:\n",
    "                for j in range(len(pairwise_conn_list)):\n",
    "                    f_out.write('%.8f\\n' % pairwise_conn_list[j])\n",
    "\n",
    "        print(\"\\t-Finished export\")\n",
    "\n",
    "\n",
    "    return pairwise_conn_list"
   ]
  },
  {
   "cell_type": "code",
   "execution_count": 37,
   "id": "b8016b35-beb4-4a26-86cb-1f832eeefd3f",
   "metadata": {},
   "outputs": [
    {
     "name": "stdout",
     "output_type": "stream",
     "text": [
      "Successfully imported graph with nodes: 4165\n",
      "HDA for k: 41\n",
      "- - - - - - - - - - - - - - - - - - - - - - - - - - - - - - - - - - - - - - - - - - - - - - - - - - - - - - - - - - - - - - - - - - - - - - - - - - - - - - - - - - - - - - - - - - - - - - - - - - - - - - \t-Finished calculations\n",
      "\t-Finished export\n"
     ]
    }
   ],
   "source": [
    "G = nx.read_gml(network_file_path, destringizer=int)\n",
    "_g_num_nodes = G.number_of_nodes()\n",
    "print(\"Successfully imported graph with nodes:\", _g_num_nodes)\n",
    "HDA_scores = HDA(G, k=k)"
   ]
  },
  {
   "cell_type": "code",
   "execution_count": 38,
   "id": "ab1437f5-3935-4863-b0af-2c38f0305149",
   "metadata": {},
   "outputs": [
    {
     "name": "stdout",
     "output_type": "stream",
     "text": [
      "Successfully imported graph with nodes: 4165\n",
      "HPRA for k: 41, alpha: 0.8\n",
      "- - - - - - - - - - - - - - - - - - - - - - - - - - - - - - - - - - - - - - - - - - - - - - - - - - - - - - - - - - - - - - - - - - - - - - - - - - - - - - - - - - - - - - - - - - - - - - - - - - - - - - \t-Finished calculations\n",
      "\t-Finished export\n",
      "Successfully imported graph with nodes: 4165\n",
      "HPRA for k: 41, alpha: 0.85\n",
      "- - - - - - - - - - - - - - - - - - - - - - - - - - - - - - - - - - - - - - - - - - - - - - - - - - - - - - - - - - - - - - - - - - - - - - - - - - - - - - - - - - - - - - - - - - - - - - - - - - - - - - \t-Finished calculations\n",
      "\t-Finished export\n",
      "Successfully imported graph with nodes: 4165\n",
      "HPRA for k: 41, alpha: 0.9\n",
      "- - - - - - - - - - - - - - - - - - - - - - - - - - - - - - - - - - - - - - - - - - - - - - - - - - - - - - - - - - - - - - - - - - - - - - - - - - - - - - - - - - - - - - - - - - - - - - - - - - - - - - \t-Finished calculations\n",
      "\t-Finished export\n"
     ]
    }
   ],
   "source": [
    "Alphas = [0.8, 0.85, 0.9]\n",
    "\n",
    "\n",
    "for alpha in Alphas:\n",
    "    G = nx.read_gml(network_file_path, destringizer=int)\n",
    "    _g_num_nodes = G.number_of_nodes()\n",
    "    print(\"Successfully imported graph with nodes:\", _g_num_nodes)\n",
    "    HPRA_scores = HPRA(G, k=k, alpha=alpha)"
   ]
  },
  {
   "cell_type": "code",
   "execution_count": 39,
   "id": "7dc5de7c-7ced-4547-8166-b81272ea1fd9",
   "metadata": {},
   "outputs": [
    {
     "name": "stdout",
     "output_type": "stream",
     "text": [
      "4165\n",
      "- - - - - - - - - - - - - - - - - - - - - - - - - - - - - - - - - - - - - - - - - - - - - - - - - - - - - - - - - - - - - - - - - - - - - - - - - - \t-Finished calculations\n",
      "\t-Finished export\n"
     ]
    }
   ],
   "source": [
    "# torch\n",
    "weight_type = \"degree\"\n",
    "network_file_name = \"{}_{}\".format(data_name, weight_type)\n",
    "\n",
    "torch_FINDER_nodefile_degree_scores = None\n",
    "network_file_name = \"{}_degree\".format(data_name)\n",
    "FINDER_torch_file_path = os.path.join(\".\", \"code\", \"results\", \"FINDER_{}_cost\".format(experiment_type), 'real', 'Data_{}'.format(weight_type),\\\n",
    "                            'StepRatio_0.0100', '{}.txt'.format(network_file_name))\n",
    "\n",
    "G = nx.read_gml(network_file_path, destringizer=int)\n",
    "_g_num_nodes = G.number_of_nodes()\n",
    "print(_g_num_nodes)\n",
    "\n",
    "torch_FINDER_nodefile_degree_scores = calc_score_from_nodes_file(G, FINDER_torch_file_path, FINDER_torch_export_path, k=k, write=True, start_idx=0, read_file_inverse=read_file_inverse)\n"
   ]
  },
  {
   "cell_type": "code",
   "execution_count": 40,
   "id": "4853a4bd-6200-4905-8c65-77340c457ef1",
   "metadata": {},
   "outputs": [
    {
     "name": "stdout",
     "output_type": "stream",
     "text": [
      "4165\n",
      "- - - - - - - - - - - - - - - - - - - - - - - - - - - - - - - - - - - - - - - - - - - - - - - - - - - - - - - - - - - - - - - - - - - - - - - - - - - - - - - - - - - - - - - - - - - - - - - - - - - - - - \t-Finished calculations\n",
      "\t-Finished export\n"
     ]
    }
   ],
   "source": [
    "weight_type = \"degree\"\n",
    "network_file_name = \"{}_{}\".format(data_name, weight_type)\n",
    "FINDER_tf_file_path = os.path.join(\".\", \"code\", \"results\", \"old_FINDER_{}_cost_tf\".format(experiment_type), 'real', 'Data_{}'.format(weight_type),\\\n",
    "                            'StepRatio_0.0100', '{}.txt'.format(network_file_name))\n",
    "\n",
    "G = nx.read_gml(network_file_path, destringizer=int)\n",
    "_g_num_nodes = G.number_of_nodes()\n",
    "print(_g_num_nodes)\n",
    "\n",
    "FINDER_nodefile_degree_scores = calc_score_from_nodes_file(G, FINDER_tf_file_path, FINDER_tf_export_path, k=k, write=True, start_idx=0, read_file_inverse=read_file_inverse)\n"
   ]
  },
  {
   "cell_type": "code",
   "execution_count": 41,
   "id": "09060ac2-0486-4d34-bbdd-13081fae6c1c",
   "metadata": {},
   "outputs": [
    {
     "name": "stdout",
     "output_type": "stream",
     "text": [
      "4165\n",
      "- - - - - - - - - - - - - - - - - - - - - - - - - - - - - - - - - - - - - - - - - - - - - - - - - - - - - - - - - - - - - - - - - - - - - - - - - - - - - - - - - - - - - - - - - - - - - - - - - - - - - - \t-Finished calculations\n",
      "\t-Finished export\n"
     ]
    }
   ],
   "source": [
    "# for FINDER ND Cost Sparse Torch\n",
    "weight_type = \"random\"\n",
    "network_file_name = \"{}_{}\".format(data_name, weight_type)\n",
    "\n",
    "# you need to run CI first\n",
    "FINDER_tf_file_path = os.path.join(\".\", \"code\", \"results\", \"old_FINDER_{}_cost_tf\".format(experiment_type), 'real', 'Data_{}'.format(weight_type),\\\n",
    "                            'StepRatio_0.0100', '{}.txt'.format(network_file_name))\n",
    "\n",
    "G = nx.read_gml(network_file_path, destringizer=int)\n",
    "_g_num_nodes = G.number_of_nodes()\n",
    "print(_g_num_nodes)\n",
    "\n",
    "FINDER_nodefile_random_scores = calc_score_from_nodes_file(G, FINDER_tf_file_path, FINDER_tf_export_path, k=k, write=True, start_idx=0, read_file_inverse=read_file_inverse)\n"
   ]
  },
  {
   "cell_type": "code",
   "execution_count": 42,
   "id": "71246016-2c36-4ef8-9193-04e614bf435a",
   "metadata": {},
   "outputs": [],
   "source": [
    "weight_type = \"degree\"\n",
    "network_file_name = \"{}_{}\".format(data_name, weight_type)\n",
    "\n",
    "FINDER_tf_fscores_file = os.path.join(\".\", \"code\", \"results\", \"old_FINDER_{}_cost_tf\".format(experiment_type), 'real', 'Data_{}'.format(weight_type),\\\n",
    "                            'StepRatio_0.0100', 'MaxCCList__Strategy_{}.txt'.format(data_name))\n",
    "\n",
    "FINDER_f = open(FINDER_tf_fscores_file, \"r\")\n",
    "tf_degree_scores = []\n",
    "for score in FINDER_f:\n",
    "    tf_degree_scores.append(float(score))\n",
    "tf_degree_final_scores = tf_degree_scores[::k]\n",
    "#print(tf_degree_final_scores)"
   ]
  },
  {
   "cell_type": "code",
   "execution_count": 43,
   "id": "b6c9c5b8-9938-4011-9c92-2a0915d7a390",
   "metadata": {},
   "outputs": [],
   "source": [
    "weight_type = \"random\"\n",
    "network_file_name = \"{}_{}\".format(data_name, weight_type)\n",
    "\n",
    "FINDER_tf_fscores_file = os.path.join(\".\", \"code\", \"results\", \"old_FINDER_{}_cost_tf\".format(experiment_type), 'real', 'Data_{}'.format(weight_type),\\\n",
    "                            'StepRatio_0.0100', 'MaxCCList_Strategy_{}.txt'.format(data_name))\n",
    "\n",
    "FINDER_f = open(FINDER_tf_fscores_file, \"r\")\n",
    "tf_degree_scores = []\n",
    "for score in FINDER_f:\n",
    "    tf_degree_scores.append(float(score))\n",
    "tf_random_final_scores = tf_degree_scores[::k]\n",
    "#print(tf_random_final_scores)"
   ]
  },
  {
   "cell_type": "code",
   "execution_count": 44,
   "id": "24c6aa29-c5a9-4d6c-9ac8-c118f002d48c",
   "metadata": {},
   "outputs": [
    {
     "data": {
      "text/plain": [
       "41"
      ]
     },
     "execution_count": 44,
     "metadata": {},
     "output_type": "execute_result"
    }
   ],
   "source": [
    "k"
   ]
  },
  {
   "cell_type": "code",
   "execution_count": 45,
   "id": "39d92010-59c7-460b-933f-bb5b4a1b2ec2",
   "metadata": {},
   "outputs": [],
   "source": [
    "exp_dict = {}\n"
   ]
  },
  {
   "cell_type": "code",
   "execution_count": 46,
   "id": "9dba6f4c-e004-433e-8478-f4c9c24d5781",
   "metadata": {},
   "outputs": [],
   "source": [
    "Alphas = [0.8, 0.85, 0.9]\n",
    "\n",
    "for s_r in [step_ratio]:\n",
    "    k = int(s_r*_g_num_nodes)\n",
    "    for alpha in Alphas:\n",
    "        dst_path = os.path.join(HPRA_export_path, \"{}_scores_k_{}_alpha_{}.txt\".format(data_name, k, alpha))\n",
    "        f = open(dst_path,'r')\n",
    "        scores = []\n",
    "        for idx, value in enumerate(f.readlines()):\n",
    "            value = float(value)\n",
    "            scores.append(value)\n",
    "\n",
    "        #scores = scores[::int(5000/k)]\n",
    "\n",
    "        exp_dict[\"HPRA α: {}, k: {}\".format(alpha, k)] = scores"
   ]
  },
  {
   "cell_type": "code",
   "execution_count": 47,
   "id": "4d0f7de0-7b16-410f-beee-ee61f0552fdb",
   "metadata": {},
   "outputs": [],
   "source": [
    "for s_r in [step_ratio]:\n",
    "    k = int(s_r*_g_num_nodes)\n",
    "    dst_path = os.path.join(HDA_export_path, \"{}_scores_k_{}.txt\".format(data_name, k))\n",
    "    f = open(dst_path,'r')\n",
    "    scores = []\n",
    "    for idx, value in enumerate(f.readlines()):\n",
    "        value = float(value)\n",
    "        scores.append(value)\n",
    "\n",
    "    #scores = scores[::int(5000/k)]\n",
    "\n",
    "    exp_dict[\"HDA k: {}\".format(k)] = scores"
   ]
  },
  {
   "cell_type": "code",
   "execution_count": 48,
   "id": "7af832ca-57b7-4e6e-8aaa-f577dc80968d",
   "metadata": {},
   "outputs": [
    {
     "data": {
      "text/plain": [
       "Text(0, 0.5, 'Graph connectivity ND')"
      ]
     },
     "execution_count": 48,
     "metadata": {},
     "output_type": "execute_result"
    },
    {
     "data": {
      "image/png": "[encoded data removed]",
      "text/plain": [
       "<Figure size 1152x576 with 1 Axes>"
      ]
     },
     "metadata": {
      "needs_background": "light"
     },
     "output_type": "display_data"
    }
   ],
   "source": [
    "# Reading FINDER files inverse\n",
    "\n",
    "from matplotlib import pyplot as plt\n",
    "\n",
    "plt.figure(figsize=(16,8))\n",
    "plt.plot(FINDER_nodefile_degree_scores, label='FINDER_nodefile_degree_scores')\n",
    "plt.plot(FINDER_nodefile_random_scores, label='FINDER_nodefile_random_scores')\n",
    "\n",
    "plt.plot(tf_degree_final_scores, label='tf_degree_final_scores')\n",
    "plt.plot(tf_random_final_scores, label='tf_random_final_scores')\n",
    "if(torch_FINDER_nodefile_degree_scores):\n",
    "    plt.plot(torch_FINDER_nodefile_degree_scores, label='torch_FINDER_nodefile_degree_scores')\n",
    "\n",
    "    \n",
    "\n",
    "tf_degree_final_scores\n",
    "#plt.plot(CN_scores, label='CN')\n",
    "for key in exp_dict.keys():\n",
    "    plt.plot(exp_dict[key], label=key)\n",
    "    \n",
    "#plt.plot(CI_scores, label='CI')\n",
    "plt.legend()\n",
    "plt.xlabel(\"# iterations of {} node removals\".format(k))\n",
    "plt.ylabel(\"Graph connectivity {}\".format(experiment_type))"
   ]
  },
  {
   "cell_type": "code",
   "execution_count": 36,
   "id": "68b3a640-d78d-40be-8526-822e40365c40",
   "metadata": {},
   "outputs": [
    {
     "data": {
      "text/plain": [
       "75"
      ]
     },
     "execution_count": 36,
     "metadata": {},
     "output_type": "execute_result"
    }
   ],
   "source": [
    "len(FINDER_torch_scores)"
   ]
  },
  {
   "cell_type": "code",
   "execution_count": null,
   "id": "e744a112-6175-4444-a39e-514c550c13f3",
   "metadata": {},
   "outputs": [],
   "source": []
  },
  {
   "cell_type": "code",
   "execution_count": 92,
   "id": "57dc8a35-0163-4c8c-bb6f-a56fbf52b78f",
   "metadata": {},
   "outputs": [],
   "source": [
    "G1 = nx.barabasi_albert_graph(n=6, m=4)\n",
    "\n",
    "G2 = nx.barabasi_albert_graph(n=5, m=4)\n",
    "\n",
    "G3 = nx.barabasi_albert_graph(n=7, m=4)\n",
    "\n",
    "G = nx.disjoint_union(nx.disjoint_union(G1, G2), G3)"
   ]
  },
  {
   "cell_type": "code",
   "execution_count": 98,
   "id": "d4daa0b5-d93c-439e-83ca-841e2cc69b95",
   "metadata": {},
   "outputs": [
    {
     "data": {
      "text/plain": [
       "7"
      ]
     },
     "execution_count": 98,
     "metadata": {},
     "output_type": "execute_result"
    }
   ],
   "source": [
    "len(max(nx.connected_components(G), key=len))"
   ]
  },
  {
   "cell_type": "code",
   "execution_count": 94,
   "id": "a5fe5e43-d32f-4f1e-aa14-44902deba89e",
   "metadata": {},
   "outputs": [
    {
     "data": {
      "image/png": "[encoded data removed]",
      "text/plain": [
       "<Figure size 432x288 with 1 Axes>"
      ]
     },
     "metadata": {},
     "output_type": "display_data"
    }
   ],
   "source": [
    "nx.draw(G)\n"
   ]
  },
  {
   "cell_type": "code",
   "execution_count": 90,
   "id": "916bab0c-a554-46cb-8bc1-ff7c39d32c30",
   "metadata": {},
   "outputs": [
    {
     "data": {
      "text/plain": [
       "NodeView((0, 1, 2, 3, 4, 5, 6))"
      ]
     },
     "execution_count": 90,
     "metadata": {},
     "output_type": "execute_result"
    }
   ],
   "source": [
    "G.nodes"
   ]
  },
  {
   "cell_type": "code",
   "execution_count": 109,
   "id": "02b593f9-156f-4d95-b7ba-006cce1162d3",
   "metadata": {},
   "outputs": [
    {
     "data": {
      "text/plain": [
       "[3, 2, 1]"
      ]
     },
     "execution_count": 109,
     "metadata": {},
     "output_type": "execute_result"
    }
   ],
   "source": [
    "[1,2,3][::-1]"
   ]
  },
  {
   "cell_type": "code",
   "execution_count": null,
   "id": "532f5172-c24b-4cd6-be03-e94503b9520e",
   "metadata": {},
   "outputs": [],
   "source": []
  }
 ],
 "metadata": {
  "kernelspec": {
   "display_name": "Python 3 (ipykernel)",
   "language": "python",
   "name": "python3"
  },
  "language_info": {
   "codemirror_mode": {
    "name": "ipython",
    "version": 3
   },
   "file_extension": ".py",
   "mimetype": "text/x-python",
   "name": "python",
   "nbconvert_exporter": "python",
   "pygments_lexer": "ipython3",
   "version": "3.9.7"
  }
 },
 "nbformat": 4,
 "nbformat_minor": 5
}
