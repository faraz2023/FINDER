{
 "cells": [
  {
   "cell_type": "code",
   "execution_count": 1,
   "id": "7c30bd80-f6f4-4b4a-a7ed-3ff1fea24c2a",
   "metadata": {},
   "outputs": [
    {
     "name": "stderr",
     "output_type": "stream",
     "text": [
      "C:\\Users\\faraz\\.conda\\envs\\pytorch\\lib\\site-packages\\tqdm\\auto.py:22: TqdmWarning: IProgress not found. Please update jupyter and ipywidgets. See https://ipywidgets.readthedocs.io/en/stable/user_install.html\n",
      "  from .autonotebook import tqdm as notebook_tqdm\n"
     ]
    }
   ],
   "source": [
    "import torch\n",
    "import torch.nn as nn\n",
    "import torch.nn.functional as F\n",
    "import torch.optim as optim\n",
    "import numpy as np\n",
    "import networkx as nx\n",
    "import random\n",
    "import time\n",
    "import pickle as cp\n",
    "import sys\n",
    "from tqdm import tqdm\n",
    "import PrepareBatchGraph\n",
    "import graph\n",
    "import nstep_replay_mem\n",
    "import nstep_replay_mem_prioritized\n",
    "import mvc_env\n",
    "import utils\n",
    "import heapq\n",
    "import scipy.linalg as linalg\n",
    "import os\n",
    "import pandas as pd"
   ]
  },
  {
   "cell_type": "code",
   "execution_count": 59,
   "id": "a26a1078-8276-4308-9ac7-9d662b4382a1",
   "metadata": {},
   "outputs": [],
   "source": [
    "class Model(nn.Module):\n",
    "    def __init__(self, embedding_size, w_initialization_std):\n",
    "        super(Model, self).__init__()\n",
    "        \n",
    "        self.rand_generator = torch.normal\n",
    "        self.embedding_size = embedding_size\n",
    "        self.w_initialization_std = w_initialization_std\n",
    "        # [2, embed_dim]\n",
    "        self.w_n2l = nn.parameter.Parameter(data=self.rand_generator(0, self.w_initialization_std,\\\n",
    "                                                                     size=(2, self.embedding_size)))\n",
    "        # [embed_dim, embed_dim]\n",
    "        self.p_node_conv = nn.parameter.Parameter(data=self.rand_generator(0, self.w_initialization_std,\\\n",
    "                                                                           size=(self.embedding_size, self.embedding_size)))\n",
    "        \n",
    "    \n",
    "            #p_node_conv = tf.Variable(tf.truncated_normal([self.embedding_size, self.embedding_size], stddev=initialization_stddev), tf.float32)\n",
    "\n",
    "    def forward(self, node_input):\n",
    "\n",
    "        x = torch.matmul(node_input, self.w_n2l)\n",
    "        x = F.relu(x)\n",
    "\n",
    "        return x\n"
   ]
  },
  {
   "cell_type": "code",
   "execution_count": null,
   "id": "540ad963-67c0-46d8-b865-32a26a1e4567",
   "metadata": {},
   "outputs": [],
   "source": []
  },
  {
   "cell_type": "code",
   "execution_count": null,
   "id": "10709f97-3593-4229-959b-8439d6fab617",
   "metadata": {},
   "outputs": [],
   "source": []
  },
  {
   "cell_type": "code",
   "execution_count": null,
   "id": "d5e29815-7e8e-4e71-9a11-a795f67529fb",
   "metadata": {},
   "outputs": [],
   "source": []
  },
  {
   "cell_type": "code",
   "execution_count": null,
   "id": "1d2e95ea-f857-4ac1-a449-eaa60312d6af",
   "metadata": {},
   "outputs": [],
   "source": []
  },
  {
   "cell_type": "code",
   "execution_count": null,
   "id": "035eda07-01d5-40b4-b7d9-dca3ccf5f42a",
   "metadata": {},
   "outputs": [],
   "source": []
  },
  {
   "cell_type": "code",
   "execution_count": null,
   "id": "8f6fdcaf-7cb1-42c1-a184-83b38dfa2c22",
   "metadata": {},
   "outputs": [],
   "source": []
  },
  {
   "cell_type": "code",
   "execution_count": null,
   "id": "6d3899c8-4691-4c22-a629-f83ae0bc5cbc",
   "metadata": {},
   "outputs": [],
   "source": []
  },
  {
   "cell_type": "code",
   "execution_count": null,
   "id": "07cf899d-5f5c-4aef-af9f-ef7a394c61a7",
   "metadata": {},
   "outputs": [],
   "source": []
  },
  {
   "cell_type": "code",
   "execution_count": null,
   "id": "5c0424ed-25c9-47e3-8e70-13021645a87b",
   "metadata": {},
   "outputs": [],
   "source": []
  },
  {
   "cell_type": "code",
   "execution_count": null,
   "id": "2f0ec3d1-48a8-43c1-9a8d-23987e665933",
   "metadata": {},
   "outputs": [],
   "source": []
  },
  {
   "cell_type": "code",
   "execution_count": null,
   "id": "e767c9b2-f3b7-4a25-854f-1b07c605efb3",
   "metadata": {},
   "outputs": [],
   "source": []
  },
  {
   "cell_type": "code",
   "execution_count": null,
   "id": "ef5c2a5b-3197-4b84-99b9-2226d9855c1b",
   "metadata": {},
   "outputs": [],
   "source": []
  },
  {
   "cell_type": "code",
   "execution_count": null,
   "id": "3a93a7ef-cc95-49f7-b653-22265a88a3b6",
   "metadata": {},
   "outputs": [],
   "source": []
  },
  {
   "cell_type": "code",
   "execution_count": null,
   "id": "b2ccf5d8-5e60-4621-992b-bf9bc3102707",
   "metadata": {},
   "outputs": [],
   "source": []
  },
  {
   "cell_type": "markdown",
   "id": "f6c94ad9-d91a-4fea-a6a7-23648b465699",
   "metadata": {},
   "source": [
    "## Misc"
   ]
  },
  {
   "cell_type": "code",
   "execution_count": 51,
   "id": "665d762e-f545-42da-bc7e-2b54cd7a423d",
   "metadata": {},
   "outputs": [],
   "source": [
    "x_a, y_a = torch.ones((100, 2)), torch.ones(100)\n",
    "x_b, y_b = torch.zeros((100, 2)), torch.zeros(100)\n"
   ]
  },
  {
   "cell_type": "code",
   "execution_count": 65,
   "id": "4acd6117-8839-46b0-a5c1-8a1e39ac06fb",
   "metadata": {},
   "outputs": [
    {
     "name": "stdout",
     "output_type": "stream",
     "text": [
      "2\n",
      "tensor([[0.],\n",
      "        [0.],\n",
      "        [0.],\n",
      "        [0.],\n",
      "        [0.]], grad_fn=<ReluBackward0>)\n"
     ]
    }
   ],
   "source": [
    "for i in range (1):\n",
    "    \n",
    "    M = Model(1, 1)\n",
    "\n",
    "\n",
    "    numb_parameters = 0\n",
    "    for param in M.parameters():\n",
    "        numb_parameters += np.prod(list(param.shape))\n",
    "    print(numb_parameters)\n",
    "\n",
    "    print(M(torch.ones((5, 2))))\n",
    "\n"
   ]
  },
  {
   "cell_type": "code",
   "execution_count": 53,
   "id": "f6e52856-7e80-4c68-b4eb-2d89cab5b8ed",
   "metadata": {},
   "outputs": [],
   "source": [
    "optimizer = optim.SGD(M.parameters(), lr=0.01, momentum=0.9)\n",
    "criterion = nn.BCEWithLogitsLoss()\n"
   ]
  },
  {
   "cell_type": "code",
   "execution_count": 54,
   "id": "04b17006-b048-43d0-9d6b-8016bee9bd26",
   "metadata": {},
   "outputs": [],
   "source": [
    "for i in range(100):\n",
    "    optimizer.zero_grad()\n",
    "    # Forward pass, backward pass, and optimize\n",
    "    outputs = M(x_a)\n",
    "    loss = criterion(outputs[:,0], y_a.float())\n",
    "    loss.backward()\n",
    "    optimizer.step()\n",
    "    \n",
    "    optimizer.zero_grad()\n",
    "    # Forward pass, backward pass, and optimize\n",
    "    outputs = M(x_b)\n",
    "    loss = criterion(outputs[:,0], y_b.float())\n",
    "    loss.backward()\n",
    "    optimizer.step()"
   ]
  },
  {
   "cell_type": "code",
   "execution_count": 55,
   "id": "4b447cfa-2270-4239-b725-ead641bf652b",
   "metadata": {},
   "outputs": [
    {
     "data": {
      "text/plain": [
       "tensor([[3.2441],\n",
       "        [3.2441],\n",
       "        [3.2441],\n",
       "        [3.2441],\n",
       "        [3.2441],\n",
       "        [3.2441],\n",
       "        [3.2441],\n",
       "        [3.2441],\n",
       "        [3.2441],\n",
       "        [3.2441],\n",
       "        [3.2441],\n",
       "        [3.2441],\n",
       "        [3.2441],\n",
       "        [3.2441],\n",
       "        [3.2441],\n",
       "        [3.2441],\n",
       "        [3.2441],\n",
       "        [3.2441],\n",
       "        [3.2441],\n",
       "        [3.2441]], grad_fn=<ReluBackward0>)"
      ]
     },
     "execution_count": 55,
     "metadata": {},
     "output_type": "execute_result"
    }
   ],
   "source": [
    "M(torch.ones(20,2))"
   ]
  },
  {
   "cell_type": "code",
   "execution_count": 56,
   "id": "4819649d-a2a2-41ce-a509-7894b5bafe93",
   "metadata": {},
   "outputs": [
    {
     "data": {
      "text/plain": [
       "tensor([[0.],\n",
       "        [0.],\n",
       "        [0.],\n",
       "        [0.],\n",
       "        [0.],\n",
       "        [0.],\n",
       "        [0.],\n",
       "        [0.],\n",
       "        [0.],\n",
       "        [0.],\n",
       "        [0.],\n",
       "        [0.],\n",
       "        [0.],\n",
       "        [0.],\n",
       "        [0.],\n",
       "        [0.],\n",
       "        [0.],\n",
       "        [0.],\n",
       "        [0.],\n",
       "        [0.]], grad_fn=<ReluBackward0>)"
      ]
     },
     "execution_count": 56,
     "metadata": {},
     "output_type": "execute_result"
    }
   ],
   "source": [
    "M(torch.zeros(20,2))"
   ]
  },
  {
   "cell_type": "code",
   "execution_count": null,
   "id": "d6004203-a28d-4e2c-b770-a85d6b4aeaf7",
   "metadata": {},
   "outputs": [],
   "source": []
  }
 ],
 "metadata": {
  "kernelspec": {
   "display_name": "Python 3 (ipykernel)",
   "language": "python",
   "name": "python3"
  },
  "language_info": {
   "codemirror_mode": {
    "name": "ipython",
    "version": 3
   },
   "file_extension": ".py",
   "mimetype": "text/x-python",
   "name": "python",
   "nbconvert_exporter": "python",
   "pygments_lexer": "ipython3",
   "version": "3.9.7"
  }
 },
 "nbformat": 4,
 "nbformat_minor": 5
}
